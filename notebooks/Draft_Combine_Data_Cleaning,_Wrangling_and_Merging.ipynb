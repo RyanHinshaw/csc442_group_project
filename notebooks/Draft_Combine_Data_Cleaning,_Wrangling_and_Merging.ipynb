{
  "cells": [
    {
      "cell_type": "markdown",
      "metadata": {
        "id": "toSDzi0ANEgZ"
      },
      "source": [
        "# Dataset\n",
        "\n",
        "The NBA Draft Combine dataset provides a comprehensive collection of player performance metrics and physical measurements recorded during the annual pre-draft evaluation process.  \n",
        "\n",
        "This dataset contains records of NBA Draft Combine participants, including key metrics such as height, weight, wingspan, vertical leap, lane agility time, and various shooting drill performances. These measurements and test results are crucial for NBA teams in assessing player potential and athleticism before making draft selections. Some records may have incomplete or missing data due to variations in player participation and testing availability.  \n",
        "\n",
        "This dataset can be used for analyzing player trends, comparing draft classes, and evaluating the relationship between combine performance and NBA success.\n"
      ]
    },
    {
      "cell_type": "code",
      "execution_count": null,
      "metadata": {
        "id": "sDCaJpD7QxXh"
      },
      "outputs": [],
      "source": [
        "#import pandas\n",
        "import pandas as pd"
      ]
    },
    {
      "cell_type": "code",
      "execution_count": null,
      "metadata": {
        "colab": {
          "base_uri": "https://localhost:8080/"
        },
        "id": "vjUArj-htksk",
        "outputId": "ca94cc81-251e-48cb-ffcb-586ff14fd3fa"
      },
      "outputs": [
        {
          "name": "stdout",
          "output_type": "stream",
          "text": [
            "   YEAR           PLAYER POS   HGT    WGT    BMI  BF  WNGSPN  STNDRCH  HANDL  \\\n",
            "0  2024   Ajayi, Michael  SF  77.8  227.8  26.49 NaN    84.8    106.5    9.5   \n",
            "1  2024   Ajinca, Melvin  SF  79.3  213.8  23.93 NaN    79.5    106.5    8.5   \n",
            "2  2024  Alexander, Trey  SG  75.3    187  23.22 NaN    82.5    101.5    9.0   \n",
            "3  2024    Almansa, Izan   C  81.3  219.6  23.39 NaN    85.0    110.0    9.0   \n",
            "4  2024   Beekman, Reece  PG  73.3  196.4  25.73 NaN    78.5    100.0    9.0   \n",
            "\n",
            "   ...  STNDVERT  LPVERT  LANE  SHUTTLE  SPRINT  BENCH    BAR   PAN  PBHGT  \\\n",
            "0  ...      27.0    34.5  12.0     3.17    3.21    NaN  1.090  92.6  133.5   \n",
            "1  ...      26.5    31.0  12.0     3.00    3.38    NaN  1.003  82.9  133.0   \n",
            "2  ...      27.0    32.0  11.0     3.00    3.00    NaN  1.096  87.5  128.5   \n",
            "3  ...      28.0    35.0  11.0     3.00    3.00    NaN  1.046  85.6  138.0   \n",
            "4  ...      30.0    37.0  11.0     3.00    3.00    NaN  1.072  76.5  130.0   \n",
            "\n",
            "   PDHGT  \n",
            "0  141.0  \n",
            "1  137.5  \n",
            "2  133.5  \n",
            "3  145.0  \n",
            "4  137.0  \n",
            "\n",
            "[5 rows x 21 columns]\n"
          ]
        }
      ],
      "source": [
        "# Import the NBA Draft Combine dataset (CSV file\n",
        "# The file location\n",
        "df = pd.read_csv('https://raw.githubusercontent.com/RyanHinshaw/csc442_group_project/refs/heads/main/draft_combine.csv')\n",
        "\n",
        "\n",
        "# # Read in the file and print out the DataFrame\n",
        "# df = pd.read_csv(file_path)\n",
        "print(df.head())"
      ]
    },
    {
      "cell_type": "markdown",
      "metadata": {
        "id": "1MwsYTyH-Ow2"
      },
      "source": [
        "# 1.Data Cleaning"
      ]
    },
    {
      "cell_type": "markdown",
      "metadata": {
        "id": "0CCRJfWxCU_o"
      },
      "source": [
        "## 1.1 Get to know data\n",
        "\n",
        "> #### Data description:\n",
        "Include the details of your features in the dataset here.\n",
        "\n",
        "The data dictionary:\n",
        "\n",
        "- 'Index': value given as the artwork was catelogued, unique for every piece\n",
        "- 'Title': Title for the artwork, can overlap with other paintings\n",
        "- 'Artist': The name of the artist\n",
        "- 'ConstituentID': unique artist ID\n",
        "- 'Date': Date the artwork is known to be painted\n",
        "- 'Medium': Details about the medium used to paint the artwork\n",
        "- 'Dimensions': Dimensions of the artwork\n",
        "- 'CreditLine': How was this artwork acquired  \n",
        "- 'AccessionNumber': ID unique for each piece in MoMA\n",
        "- 'Classification': Denotes the type of artwork\n",
        "- 'Department': Department name\n",
        "- 'DateAcquired': Date the painting was acquired by MoMA\n",
        "- 'Cataloged': If the painting has been catelogued\n",
        "- 'ObjectID': ID for the peice\n",
        "- 'URL': URL for image\n",
        "- 'ThumbnailURL': URL for the thumbnail\n",
        "- 'Circumference (cm)': Circumference of the artwork\n",
        "- 'Depth (cm)': Depth of the artwork\n",
        "- 'Diameter (cm)': Diameter of the artwork\n",
        "- 'Height (cm)': Height of the artwork\n",
        "- 'Length (cm)': Length of the artwork\n",
        "- 'Weight (kg)': Weight of the artwork\n",
        "- 'Width (cm)': Width of the artwork\n",
        "- 'Seat Height (cm)': Height of the seat near the artwork\n",
        "- 'Duration (sec.)': Duration permissable for viewing in seconds"
      ]
    },
    {
      "cell_type": "code",
      "execution_count": null,
      "metadata": {
        "colab": {
          "base_uri": "https://localhost:8080/"
        },
        "id": "pYUdUGQpb2X-",
        "outputId": "394dbad5-4fab-40ac-dc4e-a6d867e87711"
      },
      "outputs": [
        {
          "name": "stdout",
          "output_type": "stream",
          "text": [
            "Shape of the dataset: (1610, 21)\n"
          ]
        }
      ],
      "source": [
        "# find shape of the data\n",
        "print(\"Shape of the dataset:\", df.shape)"
      ]
    },
    {
      "cell_type": "code",
      "execution_count": null,
      "metadata": {
        "colab": {
          "base_uri": "https://localhost:8080/"
        },
        "id": "ezHhfWChb713",
        "outputId": "ff035714-dc85-4685-e12c-856a34658fea"
      },
      "outputs": [
        {
          "name": "stdout",
          "output_type": "stream",
          "text": [
            "Column labels: ['YEAR', 'PLAYER', 'POS', 'HGT', 'WGT', 'BMI', 'BF', 'WNGSPN', 'STNDRCH', 'HANDL', 'HANDW', 'STNDVERT', 'LPVERT', 'LANE', 'SHUTTLE', 'SPRINT', 'BENCH', 'BAR', 'PAN', 'PBHGT', 'PDHGT']\n"
          ]
        }
      ],
      "source": [
        "# print columns labels\n",
        "print(\"Column labels:\", df.columns.tolist())"
      ]
    },
    {
      "cell_type": "code",
      "execution_count": null,
      "metadata": {
        "colab": {
          "base_uri": "https://localhost:8080/"
        },
        "id": "-pGAQmLbcF3j",
        "outputId": "a4135913-c35f-4b25-e244-2cc6257b6b19"
      },
      "outputs": [
        {
          "name": "stdout",
          "output_type": "stream",
          "text": [
            "Row labels: RangeIndex(start=0, stop=1610, step=1)\n"
          ]
        }
      ],
      "source": [
        "# check row labels\n",
        "print(\"Row labels:\", df.index)"
      ]
    },
    {
      "cell_type": "code",
      "execution_count": null,
      "metadata": {
        "colab": {
          "base_uri": "https://localhost:8080/"
        },
        "id": "sXEE5jqpbnOO",
        "outputId": "1b1aaa31-5de8-47af-ad31-3ebd5388b0a9"
      },
      "outputs": [
        {
          "name": "stdout",
          "output_type": "stream",
          "text": [
            "Columns unique to each row: ['PLAYER']\n"
          ]
        }
      ],
      "source": [
        "# find the column that is unique to each row (unit of observation)\n",
        "# HINT: these will have number of unique values equal to the  number of rows in the dataframe\n",
        "# could be names or IDs\n",
        "unique_counts = df.nunique()\n",
        "unique_columns = unique_counts[unique_counts == df.shape[0]].index.tolist()\n",
        "\n",
        "print(\"Columns unique to each row:\", unique_columns)"
      ]
    },
    {
      "cell_type": "code",
      "execution_count": null,
      "metadata": {
        "colab": {
          "base_uri": "https://localhost:8080/"
        },
        "id": "ctHFiRUqcLb2",
        "outputId": "d6e37c6d-a35f-473f-aaf1-66d8d5da03c7"
      },
      "outputs": [
        {
          "name": "stdout",
          "output_type": "stream",
          "text": [
            "YEAR          int64\n",
            "PLAYER       object\n",
            "POS          object\n",
            "HGT         float64\n",
            "WGT          object\n",
            "BMI         float64\n",
            "BF          float64\n",
            "WNGSPN      float64\n",
            "STNDRCH     float64\n",
            "HANDL       float64\n",
            "HANDW       float64\n",
            "STNDVERT    float64\n",
            "LPVERT      float64\n",
            "LANE        float64\n",
            "SHUTTLE     float64\n",
            "SPRINT      float64\n",
            "BENCH       float64\n",
            "BAR         float64\n",
            "PAN         float64\n",
            "PBHGT       float64\n",
            "PDHGT       float64\n",
            "dtype: object\n"
          ]
        }
      ],
      "source": [
        "# check type of varaibles\n",
        "print(df.dtypes)"
      ]
    },
    {
      "cell_type": "markdown",
      "metadata": {
        "id": "m3zZPEr0ctT1"
      },
      "source": [
        "Strings are usually represented as objects, check few rows to learn more about objects. They could also be compound data types like lists and dictionaries within a column - that may need more cleaning.\n",
        "\n",
        "You can find the datatype of a column through `dtype`\n",
        "\n",
        "\n",
        "\n",
        "\n",
        "\n",
        "\n",
        "\n",
        " attribute"
      ]
    },
    {
      "cell_type": "code",
      "execution_count": null,
      "metadata": {
        "colab": {
          "base_uri": "https://localhost:8080/"
        },
        "id": "SRTAQoFjRAmp",
        "outputId": "ac0a21f8-7a67-4a1f-8ba2-8bb470a3f107"
      },
      "outputs": [
        {
          "name": "stdout",
          "output_type": "stream",
          "text": [
            "object\n"
          ]
        }
      ],
      "source": [
        "# similarly to know the datatype of a single column in the dataframe\n",
        "# HINT: use dtype\n",
        "#paintings[\"Width (cm)\"].dtype\n",
        "#print(df.columns.tolist())\n",
        "print(df[\"PLAYER\"].dtype)"
      ]
    },
    {
      "cell_type": "code",
      "execution_count": null,
      "metadata": {
        "colab": {
          "base_uri": "https://localhost:8080/"
        },
        "id": "55EllPoec86O",
        "outputId": "490dea61-eb47-4557-ac05-27a7bc458fd5"
      },
      "outputs": [
        {
          "name": "stdout",
          "output_type": "stream",
          "text": [
            "   YEAR           PLAYER POS   HGT    WGT    BMI  BF  WNGSPN  STNDRCH  HANDL  \\\n",
            "0  2024   Ajayi, Michael  SF  77.8  227.8  26.49 NaN    84.8    106.5    9.5   \n",
            "1  2024   Ajinca, Melvin  SF  79.3  213.8  23.93 NaN    79.5    106.5    8.5   \n",
            "2  2024  Alexander, Trey  SG  75.3    187  23.22 NaN    82.5    101.5    9.0   \n",
            "3  2024    Almansa, Izan   C  81.3  219.6  23.39 NaN    85.0    110.0    9.0   \n",
            "4  2024   Beekman, Reece  PG  73.3  196.4  25.73 NaN    78.5    100.0    9.0   \n",
            "\n",
            "   ...  STNDVERT  LPVERT  LANE  SHUTTLE  SPRINT  BENCH    BAR   PAN  PBHGT  \\\n",
            "0  ...      27.0    34.5  12.0     3.17    3.21    NaN  1.090  92.6  133.5   \n",
            "1  ...      26.5    31.0  12.0     3.00    3.38    NaN  1.003  82.9  133.0   \n",
            "2  ...      27.0    32.0  11.0     3.00    3.00    NaN  1.096  87.5  128.5   \n",
            "3  ...      28.0    35.0  11.0     3.00    3.00    NaN  1.046  85.6  138.0   \n",
            "4  ...      30.0    37.0  11.0     3.00    3.00    NaN  1.072  76.5  130.0   \n",
            "\n",
            "   PDHGT  \n",
            "0  141.0  \n",
            "1  137.5  \n",
            "2  133.5  \n",
            "3  145.0  \n",
            "4  137.0  \n",
            "\n",
            "[5 rows x 21 columns]\n"
          ]
        }
      ],
      "source": [
        "# display the head\n",
        "print(df.head())"
      ]
    },
    {
      "cell_type": "markdown",
      "metadata": {
        "id": "W4DPyqPodFvD"
      },
      "source": [
        "## 1.2 Identify which numerical columns and categorical columns"
      ]
    },
    {
      "cell_type": "code",
      "execution_count": null,
      "metadata": {
        "colab": {
          "base_uri": "https://localhost:8080/"
        },
        "id": "MM_Eug1fB918",
        "outputId": "05a753a2-7262-4343-c0bc-2d173ce4f950"
      },
      "outputs": [
        {
          "name": "stdout",
          "output_type": "stream",
          "text": [
            "Numerical columns:  ['YEAR', 'HGT', 'BMI', 'BF', 'WNGSPN', 'STNDRCH', 'HANDL', 'HANDW', 'STNDVERT', 'LPVERT', 'LANE', 'SHUTTLE', 'SPRINT', 'BENCH', 'BAR', 'PAN', 'PBHGT', 'PDHGT']\n",
            "Categorical columns:  []\n",
            "String columns:  ['PLAYER', 'POS', 'WGT']\n"
          ]
        }
      ],
      "source": [
        "# create a list of the columns that are categorical and those that are integer and those that have string values\n",
        "import numpy as np\n",
        "numerical = []\n",
        "categorical = []\n",
        "string = []\n",
        "\n",
        "for column in df.columns:\n",
        "    # Check if the column is of string type (this could be 'object' or 'category')\n",
        "    if df[column].dtype == 'object' or pd.api.types.is_string_dtype(df[column]):\n",
        "        if df[column].nunique() <= 10:\n",
        "            categorical.append(column)  # Categorical columns (fewer unique values)\n",
        "        else:\n",
        "            string.append(column)  # String columns (many unique values)\n",
        "    # Check if the column contains numerical values (integer or float)\n",
        "    elif np.issubdtype(df[column].dtype, np.number):\n",
        "        numerical.append(column)  # Numerical columns\n",
        "\n",
        "# Print the classified columns\n",
        "print(\"Numerical columns: \", numerical)\n",
        "print(\"Categorical columns: \", categorical)\n",
        "print(\"String columns: \", string)"
      ]
    },
    {
      "cell_type": "markdown",
      "metadata": {
        "id": "DpbXSWNsVZoI"
      },
      "source": [
        "Why were numerical columns put into categorical bin?"
      ]
    },
    {
      "cell_type": "markdown",
      "metadata": {
        "id": "8EOK6RDnWyEk"
      },
      "source": [
        "But categorical columns are not coded as cetagorical - let's fix that."
      ]
    },
    {
      "cell_type": "markdown",
      "metadata": {
        "id": "Uhsss9uTGEPZ"
      },
      "source": [
        "### 1.2.1 Categorical columns coding\n",
        "\n",
        "Sometimes you need some categorical columns to be numbers, or encoded as numbers."
      ]
    },
    {
      "cell_type": "code",
      "execution_count": null,
      "metadata": {
        "colab": {
          "base_uri": "https://localhost:8080/"
        },
        "id": "fiiBNYdMGKTK",
        "outputId": "53b81d6d-4391-43ad-c6f3-30265be9761d"
      },
      "outputs": [
        {
          "name": "stdout",
          "output_type": "stream",
          "text": [
            "YEAR          int64\n",
            "PLAYER       object\n",
            "POS          object\n",
            "HGT         float64\n",
            "WGT          object\n",
            "BMI         float64\n",
            "BF          float64\n",
            "WNGSPN      float64\n",
            "STNDRCH     float64\n",
            "HANDL       float64\n",
            "HANDW       float64\n",
            "STNDVERT    float64\n",
            "LPVERT      float64\n",
            "LANE        float64\n",
            "SHUTTLE     float64\n",
            "SPRINT      float64\n",
            "BENCH       float64\n",
            "BAR         float64\n",
            "PAN         float64\n",
            "PBHGT       float64\n",
            "PDHGT       float64\n",
            "dtype: object\n"
          ]
        }
      ],
      "source": [
        "# convert all the columns in the categorical list to be of the type category\n",
        "for column in categorical:\n",
        "    df[column] = df[column].astype('category')\n",
        "\n",
        "# Check the updated data types\n",
        "print(df.dtypes)"
      ]
    },
    {
      "cell_type": "markdown",
      "metadata": {
        "id": "QZpGVET_tDxh"
      },
      "source": [
        "Most of the commands shown until this point, you would have used in your homework assignment 4."
      ]
    },
    {
      "cell_type": "markdown",
      "metadata": {
        "id": "CB-sDGSaGuKi"
      },
      "source": [
        "### 1.2.2. Numerical column consistency\n",
        "\n"
      ]
    },
    {
      "cell_type": "code",
      "execution_count": null,
      "metadata": {
        "colab": {
          "base_uri": "https://localhost:8080/"
        },
        "id": "I3X0xgfIGtm7",
        "outputId": "09da9158-3669-4002-8111-3ef0c593b895"
      },
      "outputs": [
        {
          "name": "stdout",
          "output_type": "stream",
          "text": [
            "YEAR          int64\n",
            "PLAYER       object\n",
            "POS          object\n",
            "HGT         float64\n",
            "WGT          object\n",
            "BMI         float64\n",
            "BF          float64\n",
            "WNGSPN      float64\n",
            "STNDRCH     float64\n",
            "HANDL       float64\n",
            "HANDW       float64\n",
            "STNDVERT    float64\n",
            "LPVERT      float64\n",
            "LANE        float64\n",
            "SHUTTLE     float64\n",
            "SPRINT      float64\n",
            "BENCH       float64\n",
            "BAR         float64\n",
            "PAN         float64\n",
            "PBHGT       float64\n",
            "PDHGT       float64\n",
            "dtype: object\n"
          ]
        }
      ],
      "source": [
        "# We have multiple ID columns, check formats\n",
        "# ConstitutentID should be an Integer but is currently represented as a Float with .0\n",
        "#paintings['ConstituentID'] = paintings['ConstituentID'].astype(int)\n",
        "#df['PLAYER'] = pd.to_numeric(df['PLAYER'], errors='coerce')  # Convert numeric, set others to NaN\n",
        "\n",
        "# Now convert to 'Int64' to handle NaNs, if any\n",
        "#df['PLAYER'] = df['PLAYER'].astype('Int64')\n",
        "\n",
        "# Check the updated data types\n",
        "print(df.dtypes)"
      ]
    },
    {
      "cell_type": "markdown",
      "metadata": {
        "id": "4Go8yekUSiY6"
      },
      "source": [
        "What is the difference between int and Int?"
      ]
    },
    {
      "cell_type": "markdown",
      "metadata": {
        "id": "6kp2AjT9H7mF"
      },
      "source": [
        "### 1.2.3 Working with date and time columns"
      ]
    },
    {
      "cell_type": "code",
      "execution_count": null,
      "metadata": {
        "colab": {
          "base_uri": "https://localhost:8080/",
          "height": 711
        },
        "id": "UPpUf5F5nPKC",
        "outputId": "6ab48f16-2870-413b-e266-ccf90c89de3c"
      },
      "outputs": [
        {
          "data": {
            "text/html": [
              "<div>\n",
              "<style scoped>\n",
              "    .dataframe tbody tr th:only-of-type {\n",
              "        vertical-align: middle;\n",
              "    }\n",
              "\n",
              "    .dataframe tbody tr th {\n",
              "        vertical-align: top;\n",
              "    }\n",
              "\n",
              "    .dataframe thead th {\n",
              "        text-align: right;\n",
              "    }\n",
              "</style>\n",
              "<table border=\"1\" class=\"dataframe\">\n",
              "  <thead>\n",
              "    <tr style=\"text-align: right;\">\n",
              "      <th></th>\n",
              "      <th>YEAR</th>\n",
              "    </tr>\n",
              "  </thead>\n",
              "  <tbody>\n",
              "    <tr>\n",
              "      <th>0</th>\n",
              "      <td>2024</td>\n",
              "    </tr>\n",
              "    <tr>\n",
              "      <th>1</th>\n",
              "      <td>2024</td>\n",
              "    </tr>\n",
              "    <tr>\n",
              "      <th>2</th>\n",
              "      <td>2024</td>\n",
              "    </tr>\n",
              "    <tr>\n",
              "      <th>3</th>\n",
              "      <td>2024</td>\n",
              "    </tr>\n",
              "    <tr>\n",
              "      <th>4</th>\n",
              "      <td>2024</td>\n",
              "    </tr>\n",
              "    <tr>\n",
              "      <th>5</th>\n",
              "      <td>2024</td>\n",
              "    </tr>\n",
              "    <tr>\n",
              "      <th>6</th>\n",
              "      <td>2024</td>\n",
              "    </tr>\n",
              "    <tr>\n",
              "      <th>7</th>\n",
              "      <td>2024</td>\n",
              "    </tr>\n",
              "    <tr>\n",
              "      <th>8</th>\n",
              "      <td>2024</td>\n",
              "    </tr>\n",
              "    <tr>\n",
              "      <th>9</th>\n",
              "      <td>2024</td>\n",
              "    </tr>\n",
              "    <tr>\n",
              "      <th>10</th>\n",
              "      <td>2024</td>\n",
              "    </tr>\n",
              "    <tr>\n",
              "      <th>11</th>\n",
              "      <td>2024</td>\n",
              "    </tr>\n",
              "    <tr>\n",
              "      <th>12</th>\n",
              "      <td>2024</td>\n",
              "    </tr>\n",
              "    <tr>\n",
              "      <th>13</th>\n",
              "      <td>2024</td>\n",
              "    </tr>\n",
              "    <tr>\n",
              "      <th>14</th>\n",
              "      <td>2024</td>\n",
              "    </tr>\n",
              "    <tr>\n",
              "      <th>15</th>\n",
              "      <td>2024</td>\n",
              "    </tr>\n",
              "    <tr>\n",
              "      <th>16</th>\n",
              "      <td>2024</td>\n",
              "    </tr>\n",
              "    <tr>\n",
              "      <th>17</th>\n",
              "      <td>2024</td>\n",
              "    </tr>\n",
              "    <tr>\n",
              "      <th>18</th>\n",
              "      <td>2024</td>\n",
              "    </tr>\n",
              "    <tr>\n",
              "      <th>19</th>\n",
              "      <td>2024</td>\n",
              "    </tr>\n",
              "  </tbody>\n",
              "</table>\n",
              "</div><br><label><b>dtype:</b> int64</label>"
            ],
            "text/plain": [
              "0     2024\n",
              "1     2024\n",
              "2     2024\n",
              "3     2024\n",
              "4     2024\n",
              "5     2024\n",
              "6     2024\n",
              "7     2024\n",
              "8     2024\n",
              "9     2024\n",
              "10    2024\n",
              "11    2024\n",
              "12    2024\n",
              "13    2024\n",
              "14    2024\n",
              "15    2024\n",
              "16    2024\n",
              "17    2024\n",
              "18    2024\n",
              "19    2024\n",
              "Name: YEAR, dtype: int64"
            ]
          },
          "execution_count": 13,
          "metadata": {},
          "output_type": "execute_result"
        }
      ],
      "source": [
        "df['YEAR'].head(20)"
      ]
    },
    {
      "cell_type": "code",
      "execution_count": null,
      "metadata": {
        "colab": {
          "base_uri": "https://localhost:8080/"
        },
        "id": "Lu31w_stLehk",
        "outputId": "c836d4a7-92e9-4ae2-e243-5a9f31294b83"
      },
      "outputs": [
        {
          "name": "stdout",
          "output_type": "stream",
          "text": [
            "0     2024\n",
            "1     2024\n",
            "2     2024\n",
            "3     2024\n",
            "4     2024\n",
            "5     2024\n",
            "6     2024\n",
            "7     2024\n",
            "8     2024\n",
            "9     2024\n",
            "10    2024\n",
            "11    2024\n",
            "12    2024\n",
            "13    2024\n",
            "14    2024\n",
            "15    2024\n",
            "16    2024\n",
            "17    2024\n",
            "18    2024\n",
            "19    2024\n",
            "Name: YEAR, dtype: object\n",
            "object\n"
          ]
        }
      ],
      "source": [
        "# very messy - only keep year - how could you filter only year from this?\n",
        "# think how strings can be accessed..\n",
        "# traverse each string and capture last four characters that are numbers\n",
        "\n",
        "import numpy as np\n",
        "def extract_last_4_digits(text):\n",
        "    \"\"\"Extracts the last 4 digits from a string without regular expressions.\n",
        "\n",
        "    Args:\n",
        "    text: The input string.\n",
        "\n",
        "    Returns:\n",
        "    The last 4 digits of the string, or None if no digits are found.\n",
        "    \"\"\"\n",
        "    text = str(text)\n",
        "    if text is not np.nan:\n",
        "      digits = [char for char in reversed(text) if char.isdigit()]\n",
        "      if len(digits) >= 4:\n",
        "        return \"\".join(reversed(digits[:4]))\n",
        "    return None\n",
        "\n",
        "\n",
        "# identify digits in the string -\n",
        "\n",
        "df['YEAR'] = df['YEAR'].apply(extract_last_4_digits)\n",
        "\n",
        "# Check the first few rows to confirm the extraction\n",
        "print(df['YEAR'].head(20))\n",
        "\n",
        "# Check the updated data type of the 'YEAR' column\n",
        "print(df['YEAR'].dtype)"
      ]
    },
    {
      "cell_type": "markdown",
      "metadata": {
        "id": "NFV5IqnncRyP"
      },
      "source": [
        "## 1.3. Remove unnecssary values"
      ]
    },
    {
      "cell_type": "markdown",
      "metadata": {
        "id": "o6JxFOa0PWyh"
      },
      "source": [
        "### 1.3.1. Check for duplicate rows, remove them if needed"
      ]
    },
    {
      "cell_type": "code",
      "execution_count": null,
      "metadata": {
        "colab": {
          "base_uri": "https://localhost:8080/"
        },
        "id": "tumVUYj1Pbt7",
        "outputId": "48f7053d-0b53-4c05-88c2-559ae196b26b"
      },
      "outputs": [
        {
          "name": "stdout",
          "output_type": "stream",
          "text": [
            "Number of duplicate rows: 0\n"
          ]
        }
      ],
      "source": [
        "# check for duplicate rows using the duplicated().sum() functions - returns number of duplicate rows\n",
        "duplicate_count = df.duplicated().sum()\n",
        "\n",
        "# Print the number of duplicate rows\n",
        "print(f\"Number of duplicate rows: {duplicate_count}\")"
      ]
    },
    {
      "cell_type": "markdown",
      "metadata": {
        "id": "2ezBFVr7u4Fi"
      },
      "source": [
        "if there was we would drop them with `drop_duplicates()` function called on the entire dataframe ."
      ]
    },
    {
      "cell_type": "markdown",
      "metadata": {
        "id": "2hWV2ioDvL0-"
      },
      "source": [
        "### 1.3.2. Removing unnecessary columns\n",
        "\n",
        "We can reduce the size of our combined dataset by removing columns that are not important for our analyses. Columns can be \"dropped\" from a DataFrame using the DataFrame method `drop()`."
      ]
    },
    {
      "cell_type": "code",
      "execution_count": null,
      "metadata": {
        "colab": {
          "base_uri": "https://localhost:8080/"
        },
        "id": "xAfOvQ9OvMg-",
        "outputId": "9c463c1c-b5c7-4b4d-a4ab-41adf504c90e"
      },
      "outputs": [
        {
          "name": "stdout",
          "output_type": "stream",
          "text": [
            "<class 'pandas.core.frame.DataFrame'>\n",
            "RangeIndex: 1610 entries, 0 to 1609\n",
            "Data columns (total 21 columns):\n",
            " #   Column    Non-Null Count  Dtype  \n",
            "---  ------    --------------  -----  \n",
            " 0   YEAR      1610 non-null   object \n",
            " 1   PLAYER    1610 non-null   object \n",
            " 2   POS       1609 non-null   object \n",
            " 3   HGT       1608 non-null   float64\n",
            " 4   WGT       1606 non-null   object \n",
            " 5   BMI       1606 non-null   float64\n",
            " 6   BF        1235 non-null   float64\n",
            " 7   WNGSPN    1609 non-null   float64\n",
            " 8   STNDRCH   1607 non-null   float64\n",
            " 9   HANDL     880 non-null    float64\n",
            " 10  HANDW     880 non-null    float64\n",
            " 11  STNDVERT  1427 non-null   float64\n",
            " 12  LPVERT    1427 non-null   float64\n",
            " 13  LANE      1418 non-null   float64\n",
            " 14  SHUTTLE   553 non-null    float64\n",
            " 15  SPRINT    1419 non-null   float64\n",
            " 16  BENCH     1073 non-null   float64\n",
            " 17  BAR       1608 non-null   float64\n",
            " 18  PAN       880 non-null    float64\n",
            " 19  PBHGT     1426 non-null   float64\n",
            " 20  PDHGT     1426 non-null   float64\n",
            "dtypes: float64(17), object(4)\n",
            "memory usage: 264.3+ KB\n"
          ]
        }
      ],
      "source": [
        "# Print out the column labels for the full dataset of artworks and artist info\n",
        "df.info()"
      ]
    },
    {
      "cell_type": "markdown",
      "metadata": {
        "id": "g_ahi0UovVHk"
      },
      "source": [
        "We will not be using any of the external link resources, so we can remove the columns URL, ThumbnailURL."
      ]
    },
    {
      "cell_type": "code",
      "execution_count": null,
      "metadata": {
        "colab": {
          "base_uri": "https://localhost:8080/"
        },
        "id": "XE6sPVcHvUbv",
        "outputId": "bf1fede0-06ec-45c9-dd4b-888f2a3b7928"
      },
      "outputs": [
        {
          "name": "stdout",
          "output_type": "stream",
          "text": [
            "Index(['YEAR', 'PLAYER', 'POS', 'HGT', 'WGT', 'BMI', 'BF', 'WNGSPN', 'STNDRCH',\n",
            "       'HANDL', 'HANDW', 'STNDVERT', 'LPVERT', 'LANE', 'SHUTTLE', 'SPRINT'],\n",
            "      dtype='object')\n"
          ]
        }
      ],
      "source": [
        "# Remove specified columns from the dataset using \"drop()\"\n",
        "df = df.drop(columns=['BENCH', 'BAR', 'PAN', 'PBHGT', 'PDHGT'])\n",
        "\n",
        "# Print out the column labels from the new DataFrame\n",
        "print(df.columns)"
      ]
    },
    {
      "cell_type": "markdown",
      "metadata": {
        "id": "pB8hu61HBU4w"
      },
      "source": [
        "## 1.4. Handling missing data\n"
      ]
    },
    {
      "cell_type": "code",
      "execution_count": null,
      "metadata": {
        "colab": {
          "base_uri": "https://localhost:8080/"
        },
        "id": "ravEhaj_13fJ",
        "outputId": "387e2193-f80a-4f68-9ee1-a31dca729330"
      },
      "outputs": [
        {
          "name": "stdout",
          "output_type": "stream",
          "text": [
            "<class 'pandas.core.frame.DataFrame'>\n",
            "RangeIndex: 1610 entries, 0 to 1609\n",
            "Data columns (total 16 columns):\n",
            " #   Column    Non-Null Count  Dtype  \n",
            "---  ------    --------------  -----  \n",
            " 0   YEAR      1610 non-null   object \n",
            " 1   PLAYER    1610 non-null   object \n",
            " 2   POS       1609 non-null   object \n",
            " 3   HGT       1608 non-null   float64\n",
            " 4   WGT       1606 non-null   object \n",
            " 5   BMI       1606 non-null   float64\n",
            " 6   BF        1235 non-null   float64\n",
            " 7   WNGSPN    1609 non-null   float64\n",
            " 8   STNDRCH   1607 non-null   float64\n",
            " 9   HANDL     880 non-null    float64\n",
            " 10  HANDW     880 non-null    float64\n",
            " 11  STNDVERT  1427 non-null   float64\n",
            " 12  LPVERT    1427 non-null   float64\n",
            " 13  LANE      1418 non-null   float64\n",
            " 14  SHUTTLE   553 non-null    float64\n",
            " 15  SPRINT    1419 non-null   float64\n",
            "dtypes: float64(12), object(4)\n",
            "memory usage: 201.4+ KB\n"
          ]
        }
      ],
      "source": [
        "# check which columns have missing data with info()\n",
        "df.info()"
      ]
    },
    {
      "cell_type": "markdown",
      "metadata": {
        "id": "m4GXxqeXGFT4"
      },
      "source": [
        "### 1.4.1. Consistency of missing values\n"
      ]
    },
    {
      "cell_type": "code",
      "execution_count": null,
      "metadata": {
        "colab": {
          "base_uri": "https://localhost:8080/"
        },
        "id": "0gv-9pDky5Nx",
        "outputId": "4ef91bd7-2304-4b65-fa14-b9ffacc5d71d"
      },
      "outputs": [
        {
          "name": "stdout",
          "output_type": "stream",
          "text": [
            "     YEAR           PLAYER POS   HGT  WGT  BMI  BF  WNGSPN  STNDRCH  HANDL  \\\n",
            "336  2019  Langford, Romeo  SG  76.5  NaN  NaN NaN    83.0    103.0    9.0   \n",
            "503  2016       Dunn, Kris  PG  75.0  NaN  NaN NaN    81.5    100.0    NaN   \n",
            "\n",
            "     HANDW  STNDVERT  LPVERT  LANE  SHUTTLE  SPRINT  \n",
            "336    9.0       NaN     NaN   NaN      NaN     NaN  \n",
            "503    NaN       NaN     NaN   NaN      NaN     NaN  \n"
          ]
        }
      ],
      "source": [
        "# Find rows with NaN in 'col1' and but supposedly has in 'col2'\n",
        "# Replace 'col1' and 'col2' with actual column names from your dataset\n",
        "filtered_rows = df[df['WGT'].isna() & df['HGT'].notna()]\n",
        "\n",
        "# Display the filtered rows\n",
        "print(filtered_rows)\n"
      ]
    },
    {
      "cell_type": "code",
      "execution_count": null,
      "metadata": {
        "colab": {
          "base_uri": "https://localhost:8080/"
        },
        "id": "nTVQhQrQ2Ls4",
        "outputId": "0f7e7162-78f5-4007-9314-418f47e0aa1f"
      },
      "outputs": [
        {
          "name": "stdout",
          "output_type": "stream",
          "text": [
            "   YEAR           PLAYER POS   HGT    WGT    BMI  BF  WNGSPN  STNDRCH  HANDL  \\\n",
            "0  2024   Ajayi, Michael  SF  77.8  227.8  26.49 NaN    84.8    106.5    9.5   \n",
            "1  2024   Ajinca, Melvin  SF  79.3  213.8  23.93 NaN    79.5    106.5    8.5   \n",
            "2  2024  Alexander, Trey  SG  75.3    187  23.22 NaN    82.5    101.5    9.0   \n",
            "3  2024    Almansa, Izan   C  81.3  219.6  23.39 NaN    85.0    110.0    9.0   \n",
            "4  2024   Beekman, Reece  PG  73.3  196.4  25.73 NaN    78.5    100.0    9.0   \n",
            "\n",
            "   HANDW  STNDVERT  LPVERT  LANE  SHUTTLE  SPRINT  \n",
            "0    9.8      27.0    34.5  12.0     3.17    3.21  \n",
            "1    9.8      26.5    31.0  12.0     3.00    3.38  \n",
            "2   10.0      27.0    32.0  11.0     3.00    3.00  \n",
            "3    9.0      28.0    35.0  11.0     3.00    3.00  \n",
            "4    9.0      30.0    37.0  11.0     3.00    3.00  \n"
          ]
        }
      ],
      "source": [
        "# in some cases there can be inconsitency in the how missing values are represented\n",
        "# we would have to fix that\n",
        "# for example in the dataset paintings we had both NaN and n.d so we replace all n.d. values with NaN\n",
        "# call the replace function on specific column and provide arguements on what to replace it by\n",
        "# for example, paintings['Date'] = paintings['Date'].replace({'n.d.': np.nan})\n",
        "import numpy as np\n",
        "\n",
        "# Replace 'n.d.' with NaN across all columns\n",
        "df = df.replace({'n.d.': np.nan})\n",
        "\n",
        "# Verify the changes\n",
        "print(df.head())\n",
        "\n"
      ]
    },
    {
      "cell_type": "code",
      "execution_count": null,
      "metadata": {
        "colab": {
          "base_uri": "https://localhost:8080/"
        },
        "id": "TCK1SKxXx1ex",
        "outputId": "f1d876c1-568c-4e46-eac4-8d382085faed"
      },
      "outputs": [
        {
          "name": "stdout",
          "output_type": "stream",
          "text": [
            "<class 'pandas.core.frame.DataFrame'>\n",
            "RangeIndex: 1610 entries, 0 to 1609\n",
            "Data columns (total 16 columns):\n",
            " #   Column    Non-Null Count  Dtype  \n",
            "---  ------    --------------  -----  \n",
            " 0   YEAR      1610 non-null   object \n",
            " 1   PLAYER    1610 non-null   object \n",
            " 2   POS       1609 non-null   object \n",
            " 3   HGT       1608 non-null   float64\n",
            " 4   WGT       1606 non-null   object \n",
            " 5   BMI       1606 non-null   float64\n",
            " 6   BF        1235 non-null   float64\n",
            " 7   WNGSPN    1609 non-null   float64\n",
            " 8   STNDRCH   1607 non-null   float64\n",
            " 9   HANDL     880 non-null    float64\n",
            " 10  HANDW     880 non-null    float64\n",
            " 11  STNDVERT  1427 non-null   float64\n",
            " 12  LPVERT    1427 non-null   float64\n",
            " 13  LANE      1418 non-null   float64\n",
            " 14  SHUTTLE   553 non-null    float64\n",
            " 15  SPRINT    1419 non-null   float64\n",
            "dtypes: float64(12), object(4)\n",
            "memory usage: 201.4+ KB\n"
          ]
        }
      ],
      "source": [
        "df.info()"
      ]
    },
    {
      "cell_type": "markdown",
      "metadata": {
        "id": "FXPjz2ned6tH"
      },
      "source": [
        "### 1.4.2. Removing rows with missing data"
      ]
    },
    {
      "cell_type": "code",
      "execution_count": null,
      "metadata": {
        "colab": {
          "base_uri": "https://localhost:8080/"
        },
        "id": "Muz9EO4-H3U4",
        "outputId": "fc10717f-ce31-40e0-ab41-987c7ef9bb4a"
      },
      "outputs": [
        {
          "name": "stdout",
          "output_type": "stream",
          "text": [
            "Empty DataFrame\n",
            "Columns: [YEAR, PLAYER, POS, HGT, WGT, BMI, BF, WNGSPN, STNDRCH, HANDL, HANDW, STNDVERT, LPVERT, LANE, SHUTTLE, SPRINT]\n",
            "Index: []\n"
          ]
        }
      ],
      "source": [
        "# Identify rows with all NaN values\n",
        "rows_all_nan = df[df.isna().all(axis=1)]\n",
        "\n",
        "# Display the rows with all NaN values\n",
        "print(rows_all_nan)\n",
        "\n",
        "# if found remove them\n",
        "# you can also search for nan values and drop the rows which contain them."
      ]
    },
    {
      "cell_type": "code",
      "execution_count": null,
      "metadata": {
        "colab": {
          "base_uri": "https://localhost:8080/"
        },
        "id": "P5nY1TEcaOOd",
        "outputId": "cdd803ec-e898-4907-c61e-5138b53d89c6"
      },
      "outputs": [
        {
          "name": "stdout",
          "output_type": "stream",
          "text": [
            "Index(['YEAR', 'PLAYER', 'POS', 'HGT', 'WGT', 'BMI', 'BF', 'WNGSPN', 'STNDRCH',\n",
            "       'HANDL', 'HANDW', 'STNDVERT', 'LPVERT', 'LANE', 'SHUTTLE', 'SPRINT'],\n",
            "      dtype='object')\n"
          ]
        }
      ],
      "source": [
        "# remove all entries where Artist name is null using filtering with notna()\n",
        "# Print the column names to identify the exact name of the 'PLAYER' column\n",
        "print(df.columns)\n"
      ]
    },
    {
      "cell_type": "markdown",
      "metadata": {
        "id": "S2jVhZbFeFQy"
      },
      "source": [
        "### 1.4.3. Replacing missing data\n",
        "\n",
        "In cases removing the rows is not an option replace the values by default standard which can be either mean in numerical values or any domain dependent value."
      ]
    },
    {
      "cell_type": "code",
      "execution_count": null,
      "metadata": {
        "colab": {
          "base_uri": "https://localhost:8080/"
        },
        "id": "-wxLAFEu3voP",
        "outputId": "84d84444-df16-4e25-d5b8-5d39dc11a793"
      },
      "outputs": [
        {
          "name": "stdout",
          "output_type": "stream",
          "text": [
            "YEAR           0\n",
            "PLAYER         0\n",
            "POS            1\n",
            "HGT            2\n",
            "WGT            4\n",
            "BMI            4\n",
            "BF           375\n",
            "WNGSPN         1\n",
            "STNDRCH        3\n",
            "HANDL        730\n",
            "HANDW        730\n",
            "STNDVERT     183\n",
            "LPVERT       183\n",
            "LANE         192\n",
            "SHUTTLE     1057\n",
            "SPRINT       191\n",
            "dtype: int64\n",
            "<class 'pandas.core.frame.DataFrame'>\n",
            "RangeIndex: 1610 entries, 0 to 1609\n",
            "Data columns (total 16 columns):\n",
            " #   Column    Non-Null Count  Dtype  \n",
            "---  ------    --------------  -----  \n",
            " 0   YEAR      1610 non-null   object \n",
            " 1   PLAYER    1610 non-null   object \n",
            " 2   POS       1609 non-null   object \n",
            " 3   HGT       1608 non-null   float64\n",
            " 4   WGT       1606 non-null   object \n",
            " 5   BMI       1606 non-null   float64\n",
            " 6   BF        1235 non-null   float64\n",
            " 7   WNGSPN    1609 non-null   float64\n",
            " 8   STNDRCH   1607 non-null   float64\n",
            " 9   HANDL     880 non-null    float64\n",
            " 10  HANDW     880 non-null    float64\n",
            " 11  STNDVERT  1427 non-null   float64\n",
            " 12  LPVERT    1427 non-null   float64\n",
            " 13  LANE      1418 non-null   float64\n",
            " 14  SHUTTLE   553 non-null    float64\n",
            " 15  SPRINT    1419 non-null   float64\n",
            "dtypes: float64(12), object(4)\n",
            "memory usage: 201.4+ KB\n",
            "None\n"
          ]
        }
      ],
      "source": [
        "# The dataset contains missing values in height and width column\n",
        "# replace them with mean value and dropna method\n",
        "# method 1: df.dropna({col: value}, inplace=True),\n",
        "# df[column].fillna(newvalue, inplace=True)\n",
        "\n",
        "# check dataset for sanity\n",
        "print(df.isna().sum())  # This will give the count of missing values in each column\n",
        "\n",
        "# Check dataset info to ensure correct datatypes and dimensions\n",
        "print(df.info())"
      ]
    },
    {
      "cell_type": "code",
      "execution_count": null,
      "metadata": {
        "colab": {
          "base_uri": "https://localhost:8080/"
        },
        "id": "ngs9EA3I44-n",
        "outputId": "48b2223b-206e-4b8a-e049-91289bb22510"
      },
      "outputs": [
        {
          "name": "stdout",
          "output_type": "stream",
          "text": [
            "POS            1\n",
            "HGT            2\n",
            "WGT            4\n",
            "BMI            4\n",
            "BF           375\n",
            "WNGSPN         1\n",
            "STNDRCH        3\n",
            "HANDL        730\n",
            "HANDW        730\n",
            "STNDVERT     183\n",
            "LPVERT       183\n",
            "LANE         192\n",
            "SHUTTLE     1057\n",
            "SPRINT       191\n",
            "dtype: int64\n"
          ]
        }
      ],
      "source": [
        "# Any other columns that need similar treatment?\n",
        "# Check for missing values in all columns\n",
        "missing_values = df.isna().sum()\n",
        "\n",
        "# Display the columns with missing values\n",
        "print(missing_values[missing_values > 0])"
      ]
    },
    {
      "cell_type": "markdown",
      "metadata": {
        "id": "R57siQ-jRXHh"
      },
      "source": [
        "## 1.5 Dealing with outliers\n",
        "\n",
        "Outliers are data points that significantly differ from other observations in a dataset. They are unusual or extreme values that deviate from the typical patterns or central tendency of the data. Outliers can be caused by various factors, including:\n",
        "\n",
        "- **Measurement errors:** Mistakes in data collection or recording.\n",
        "Data entry errors: Typos or incorrect values entered into a database.\n",
        "\n",
        "- **Experimental errors:** Issues with the experimental setup or procedure.\n",
        "\n",
        "- **Natural variations:** Genuine extreme values that occur naturally in the population.\n",
        "\n",
        "Outliers can have a significant impact on data analysis and statistical modeling. Knowing how to deal with outliers is an important data cleaning task."
      ]
    },
    {
      "cell_type": "markdown",
      "metadata": {
        "id": "IQtzVI-Se72S"
      },
      "source": [
        "### 1.5.1. Summary Statistics\n",
        "\n",
        "Summary statistics can be used to identify columns that would need more cleaning, for example if you find that the standard deviation is large compared to the mean - the data may include outliers.\n",
        "\n",
        "Best way to spot outliers is to plot the data, you can use histograms, box plots and sometimes even scatter plots help in identifying outliers."
      ]
    },
    {
      "cell_type": "code",
      "execution_count": null,
      "metadata": {
        "colab": {
          "base_uri": "https://localhost:8080/",
          "height": 300
        },
        "id": "TBQwhPyARaST",
        "outputId": "193ee998-25b8-4775-9c15-eb43f25932e9"
      },
      "outputs": [
        {
          "data": {
            "application/vnd.google.colaboratory.intrinsic+json": {
              "summary": "{\n  \"name\": \"df\",\n  \"rows\": 8,\n  \"fields\": [\n    {\n      \"column\": \"HGT\",\n      \"properties\": {\n        \"dtype\": \"number\",\n        \"std\": 545.3563272434964,\n        \"min\": 3.3520746678278726,\n        \"max\": 1608.0,\n        \"num_unique_values\": 8,\n        \"samples\": [\n          77.63016169154228,\n          78.0,\n          1608.0\n        ],\n        \"semantic_type\": \"\",\n        \"description\": \"\"\n      }\n    },\n    {\n      \"column\": \"BMI\",\n      \"properties\": {\n        \"dtype\": \"number\",\n        \"std\": 560.1182996177306,\n        \"min\": 2.0091518349711652,\n        \"max\": 1606.0,\n        \"num_unique_values\": 8,\n        \"samples\": [\n          25.04453922789539,\n          24.9,\n          1606.0\n        ],\n        \"semantic_type\": \"\",\n        \"description\": \"\"\n      }\n    },\n    {\n      \"column\": \"BF\",\n      \"properties\": {\n        \"dtype\": \"number\",\n        \"std\": 436.60956913493453,\n        \"min\": 0.026,\n        \"max\": 1235.0,\n        \"num_unique_values\": 8,\n        \"samples\": [\n          0.07524226720647774,\n          0.067,\n          1235.0\n        ],\n        \"semantic_type\": \"\",\n        \"description\": \"\"\n      }\n    },\n    {\n      \"column\": \"WNGSPN\",\n      \"properties\": {\n        \"dtype\": \"number\",\n        \"std\": 544.2633343276099,\n        \"min\": 4.000476972047663,\n        \"max\": 1609.0,\n        \"num_unique_values\": 8,\n        \"samples\": [\n          82.38931013051584,\n          82.5,\n          1609.0\n        ],\n        \"semantic_type\": \"\",\n        \"description\": \"\"\n      }\n    },\n    {\n      \"column\": \"STNDRCH\",\n      \"properties\": {\n        \"dtype\": \"number\",\n        \"std\": 537.5284128527934,\n        \"min\": 4.863598790083773,\n        \"max\": 1607.0,\n        \"num_unique_values\": 8,\n        \"samples\": [\n          103.51804604853764,\n          104.0,\n          1607.0\n        ],\n        \"semantic_type\": \"\",\n        \"description\": \"\"\n      }\n    },\n    {\n      \"column\": \"HANDL\",\n      \"properties\": {\n        \"dtype\": \"number\",\n        \"std\": 308.44256672241437,\n        \"min\": 0.4710309459390834,\n        \"max\": 880.0,\n        \"num_unique_values\": 8,\n        \"samples\": [\n          8.723863636363637,\n          8.75,\n          880.0\n        ],\n        \"semantic_type\": \"\",\n        \"description\": \"\"\n      }\n    },\n    {\n      \"column\": \"HANDW\",\n      \"properties\": {\n        \"dtype\": \"number\",\n        \"std\": 308.23419907519406,\n        \"min\": 0.6944159076427174,\n        \"max\": 880.0,\n        \"num_unique_values\": 8,\n        \"samples\": [\n          9.44375,\n          9.5,\n          880.0\n        ],\n        \"semantic_type\": \"\",\n        \"description\": \"\"\n      }\n    },\n    {\n      \"column\": \"STNDVERT\",\n      \"properties\": {\n        \"dtype\": \"number\",\n        \"std\": 495.5094866566598,\n        \"min\": 3.1067853178074607,\n        \"max\": 1427.0,\n        \"num_unique_values\": 8,\n        \"samples\": [\n          29.25283812193413,\n          29.0,\n          1427.0\n        ],\n        \"semantic_type\": \"\",\n        \"description\": \"\"\n      }\n    },\n    {\n      \"column\": \"LPVERT\",\n      \"properties\": {\n        \"dtype\": \"number\",\n        \"std\": 494.04837671015105,\n        \"min\": 3.6958561107566648,\n        \"max\": 1427.0,\n        \"num_unique_values\": 8,\n        \"samples\": [\n          34.55466012613875,\n          34.5,\n          1427.0\n        ],\n        \"semantic_type\": \"\",\n        \"description\": \"\"\n      }\n    },\n    {\n      \"column\": \"LANE\",\n      \"properties\": {\n        \"dtype\": \"number\",\n        \"std\": 497.8128652054649,\n        \"min\": 0.5860634750976099,\n        \"max\": 1418.0,\n        \"num_unique_values\": 8,\n        \"samples\": [\n          11.399816643159378,\n          11.33,\n          1418.0\n        ],\n        \"semantic_type\": \"\",\n        \"description\": \"\"\n      }\n    },\n    {\n      \"column\": \"SHUTTLE\",\n      \"properties\": {\n        \"dtype\": \"number\",\n        \"std\": 194.58244478916322,\n        \"min\": 0.20972805983514212,\n        \"max\": 553.0,\n        \"num_unique_values\": 8,\n        \"samples\": [\n          3.0736347197106695,\n          3.08,\n          553.0\n        ],\n        \"semantic_type\": \"\",\n        \"description\": \"\"\n      }\n    },\n    {\n      \"column\": \"SPRINT\",\n      \"properties\": {\n        \"dtype\": \"number\",\n        \"std\": 500.6775403445869,\n        \"min\": 0.14135943654875138,\n        \"max\": 1419.0,\n        \"num_unique_values\": 8,\n        \"samples\": [\n          3.2705496828752643,\n          3.26,\n          1419.0\n        ],\n        \"semantic_type\": \"\",\n        \"description\": \"\"\n      }\n    }\n  ]\n}",
              "type": "dataframe"
            },
            "text/html": [
              "\n",
              "  <div id=\"df-db0531c2-6369-4b65-a1d4-dae41ba5ab45\" class=\"colab-df-container\">\n",
              "    <div>\n",
              "<style scoped>\n",
              "    .dataframe tbody tr th:only-of-type {\n",
              "        vertical-align: middle;\n",
              "    }\n",
              "\n",
              "    .dataframe tbody tr th {\n",
              "        vertical-align: top;\n",
              "    }\n",
              "\n",
              "    .dataframe thead th {\n",
              "        text-align: right;\n",
              "    }\n",
              "</style>\n",
              "<table border=\"1\" class=\"dataframe\">\n",
              "  <thead>\n",
              "    <tr style=\"text-align: right;\">\n",
              "      <th></th>\n",
              "      <th>HGT</th>\n",
              "      <th>BMI</th>\n",
              "      <th>BF</th>\n",
              "      <th>WNGSPN</th>\n",
              "      <th>STNDRCH</th>\n",
              "      <th>HANDL</th>\n",
              "      <th>HANDW</th>\n",
              "      <th>STNDVERT</th>\n",
              "      <th>LPVERT</th>\n",
              "      <th>LANE</th>\n",
              "      <th>SHUTTLE</th>\n",
              "      <th>SPRINT</th>\n",
              "    </tr>\n",
              "  </thead>\n",
              "  <tbody>\n",
              "    <tr>\n",
              "      <th>count</th>\n",
              "      <td>1608.000000</td>\n",
              "      <td>1606.000000</td>\n",
              "      <td>1235.000000</td>\n",
              "      <td>1609.000000</td>\n",
              "      <td>1607.000000</td>\n",
              "      <td>880.000000</td>\n",
              "      <td>880.000000</td>\n",
              "      <td>1427.000000</td>\n",
              "      <td>1427.000000</td>\n",
              "      <td>1418.000000</td>\n",
              "      <td>553.000000</td>\n",
              "      <td>1419.000000</td>\n",
              "    </tr>\n",
              "    <tr>\n",
              "      <th>mean</th>\n",
              "      <td>77.630162</td>\n",
              "      <td>25.044539</td>\n",
              "      <td>0.075242</td>\n",
              "      <td>82.389310</td>\n",
              "      <td>103.518046</td>\n",
              "      <td>8.723864</td>\n",
              "      <td>9.443750</td>\n",
              "      <td>29.252838</td>\n",
              "      <td>34.554660</td>\n",
              "      <td>11.399817</td>\n",
              "      <td>3.073635</td>\n",
              "      <td>3.270550</td>\n",
              "    </tr>\n",
              "    <tr>\n",
              "      <th>std</th>\n",
              "      <td>3.352075</td>\n",
              "      <td>2.009152</td>\n",
              "      <td>0.029414</td>\n",
              "      <td>4.000477</td>\n",
              "      <td>4.863599</td>\n",
              "      <td>0.471031</td>\n",
              "      <td>0.694416</td>\n",
              "      <td>3.106785</td>\n",
              "      <td>3.695856</td>\n",
              "      <td>0.586063</td>\n",
              "      <td>0.209728</td>\n",
              "      <td>0.141359</td>\n",
              "    </tr>\n",
              "    <tr>\n",
              "      <th>min</th>\n",
              "      <td>67.750000</td>\n",
              "      <td>17.480000</td>\n",
              "      <td>0.026000</td>\n",
              "      <td>70.000000</td>\n",
              "      <td>88.500000</td>\n",
              "      <td>7.500000</td>\n",
              "      <td>7.000000</td>\n",
              "      <td>19.500000</td>\n",
              "      <td>21.000000</td>\n",
              "      <td>9.650000</td>\n",
              "      <td>2.220000</td>\n",
              "      <td>2.910000</td>\n",
              "    </tr>\n",
              "    <tr>\n",
              "      <th>25%</th>\n",
              "      <td>75.300000</td>\n",
              "      <td>23.680000</td>\n",
              "      <td>0.054000</td>\n",
              "      <td>79.750000</td>\n",
              "      <td>100.000000</td>\n",
              "      <td>8.500000</td>\n",
              "      <td>9.000000</td>\n",
              "      <td>27.000000</td>\n",
              "      <td>32.000000</td>\n",
              "      <td>10.992500</td>\n",
              "      <td>2.980000</td>\n",
              "      <td>3.180000</td>\n",
              "    </tr>\n",
              "    <tr>\n",
              "      <th>50%</th>\n",
              "      <td>78.000000</td>\n",
              "      <td>24.900000</td>\n",
              "      <td>0.067000</td>\n",
              "      <td>82.500000</td>\n",
              "      <td>104.000000</td>\n",
              "      <td>8.750000</td>\n",
              "      <td>9.500000</td>\n",
              "      <td>29.000000</td>\n",
              "      <td>34.500000</td>\n",
              "      <td>11.330000</td>\n",
              "      <td>3.080000</td>\n",
              "      <td>3.260000</td>\n",
              "    </tr>\n",
              "    <tr>\n",
              "      <th>75%</th>\n",
              "      <td>80.250000</td>\n",
              "      <td>26.170000</td>\n",
              "      <td>0.089000</td>\n",
              "      <td>85.250000</td>\n",
              "      <td>107.000000</td>\n",
              "      <td>9.000000</td>\n",
              "      <td>10.000000</td>\n",
              "      <td>31.500000</td>\n",
              "      <td>37.000000</td>\n",
              "      <td>11.730000</td>\n",
              "      <td>3.200000</td>\n",
              "      <td>3.355000</td>\n",
              "    </tr>\n",
              "    <tr>\n",
              "      <th>max</th>\n",
              "      <td>89.250000</td>\n",
              "      <td>34.490000</td>\n",
              "      <td>0.231000</td>\n",
              "      <td>98.250000</td>\n",
              "      <td>122.500000</td>\n",
              "      <td>10.500000</td>\n",
              "      <td>12.000000</td>\n",
              "      <td>41.500000</td>\n",
              "      <td>48.000000</td>\n",
              "      <td>14.450000</td>\n",
              "      <td>3.760000</td>\n",
              "      <td>4.000000</td>\n",
              "    </tr>\n",
              "  </tbody>\n",
              "</table>\n",
              "</div>\n",
              "    <div class=\"colab-df-buttons\">\n",
              "\n",
              "  <div class=\"colab-df-container\">\n",
              "    <button class=\"colab-df-convert\" onclick=\"convertToInteractive('df-db0531c2-6369-4b65-a1d4-dae41ba5ab45')\"\n",
              "            title=\"Convert this dataframe to an interactive table.\"\n",
              "            style=\"display:none;\">\n",
              "\n",
              "  <svg xmlns=\"http://www.w3.org/2000/svg\" height=\"24px\" viewBox=\"0 -960 960 960\">\n",
              "    <path d=\"M120-120v-720h720v720H120Zm60-500h600v-160H180v160Zm220 220h160v-160H400v160Zm0 220h160v-160H400v160ZM180-400h160v-160H180v160Zm440 0h160v-160H620v160ZM180-180h160v-160H180v160Zm440 0h160v-160H620v160Z\"/>\n",
              "  </svg>\n",
              "    </button>\n",
              "\n",
              "  <style>\n",
              "    .colab-df-container {\n",
              "      display:flex;\n",
              "      gap: 12px;\n",
              "    }\n",
              "\n",
              "    .colab-df-convert {\n",
              "      background-color: #E8F0FE;\n",
              "      border: none;\n",
              "      border-radius: 50%;\n",
              "      cursor: pointer;\n",
              "      display: none;\n",
              "      fill: #1967D2;\n",
              "      height: 32px;\n",
              "      padding: 0 0 0 0;\n",
              "      width: 32px;\n",
              "    }\n",
              "\n",
              "    .colab-df-convert:hover {\n",
              "      background-color: #E2EBFA;\n",
              "      box-shadow: 0px 1px 2px rgba(60, 64, 67, 0.3), 0px 1px 3px 1px rgba(60, 64, 67, 0.15);\n",
              "      fill: #174EA6;\n",
              "    }\n",
              "\n",
              "    .colab-df-buttons div {\n",
              "      margin-bottom: 4px;\n",
              "    }\n",
              "\n",
              "    [theme=dark] .colab-df-convert {\n",
              "      background-color: #3B4455;\n",
              "      fill: #D2E3FC;\n",
              "    }\n",
              "\n",
              "    [theme=dark] .colab-df-convert:hover {\n",
              "      background-color: #434B5C;\n",
              "      box-shadow: 0px 1px 3px 1px rgba(0, 0, 0, 0.15);\n",
              "      filter: drop-shadow(0px 1px 2px rgba(0, 0, 0, 0.3));\n",
              "      fill: #FFFFFF;\n",
              "    }\n",
              "  </style>\n",
              "\n",
              "    <script>\n",
              "      const buttonEl =\n",
              "        document.querySelector('#df-db0531c2-6369-4b65-a1d4-dae41ba5ab45 button.colab-df-convert');\n",
              "      buttonEl.style.display =\n",
              "        google.colab.kernel.accessAllowed ? 'block' : 'none';\n",
              "\n",
              "      async function convertToInteractive(key) {\n",
              "        const element = document.querySelector('#df-db0531c2-6369-4b65-a1d4-dae41ba5ab45');\n",
              "        const dataTable =\n",
              "          await google.colab.kernel.invokeFunction('convertToInteractive',\n",
              "                                                    [key], {});\n",
              "        if (!dataTable) return;\n",
              "\n",
              "        const docLinkHtml = 'Like what you see? Visit the ' +\n",
              "          '<a target=\"_blank\" href=https://colab.research.google.com/notebooks/data_table.ipynb>data table notebook</a>'\n",
              "          + ' to learn more about interactive tables.';\n",
              "        element.innerHTML = '';\n",
              "        dataTable['output_type'] = 'display_data';\n",
              "        await google.colab.output.renderOutput(dataTable, element);\n",
              "        const docLink = document.createElement('div');\n",
              "        docLink.innerHTML = docLinkHtml;\n",
              "        element.appendChild(docLink);\n",
              "      }\n",
              "    </script>\n",
              "  </div>\n",
              "\n",
              "\n",
              "<div id=\"df-d1813a83-2d60-4f58-90df-4a6e7b2b0307\">\n",
              "  <button class=\"colab-df-quickchart\" onclick=\"quickchart('df-d1813a83-2d60-4f58-90df-4a6e7b2b0307')\"\n",
              "            title=\"Suggest charts\"\n",
              "            style=\"display:none;\">\n",
              "\n",
              "<svg xmlns=\"http://www.w3.org/2000/svg\" height=\"24px\"viewBox=\"0 0 24 24\"\n",
              "     width=\"24px\">\n",
              "    <g>\n",
              "        <path d=\"M19 3H5c-1.1 0-2 .9-2 2v14c0 1.1.9 2 2 2h14c1.1 0 2-.9 2-2V5c0-1.1-.9-2-2-2zM9 17H7v-7h2v7zm4 0h-2V7h2v10zm4 0h-2v-4h2v4z\"/>\n",
              "    </g>\n",
              "</svg>\n",
              "  </button>\n",
              "\n",
              "<style>\n",
              "  .colab-df-quickchart {\n",
              "      --bg-color: #E8F0FE;\n",
              "      --fill-color: #1967D2;\n",
              "      --hover-bg-color: #E2EBFA;\n",
              "      --hover-fill-color: #174EA6;\n",
              "      --disabled-fill-color: #AAA;\n",
              "      --disabled-bg-color: #DDD;\n",
              "  }\n",
              "\n",
              "  [theme=dark] .colab-df-quickchart {\n",
              "      --bg-color: #3B4455;\n",
              "      --fill-color: #D2E3FC;\n",
              "      --hover-bg-color: #434B5C;\n",
              "      --hover-fill-color: #FFFFFF;\n",
              "      --disabled-bg-color: #3B4455;\n",
              "      --disabled-fill-color: #666;\n",
              "  }\n",
              "\n",
              "  .colab-df-quickchart {\n",
              "    background-color: var(--bg-color);\n",
              "    border: none;\n",
              "    border-radius: 50%;\n",
              "    cursor: pointer;\n",
              "    display: none;\n",
              "    fill: var(--fill-color);\n",
              "    height: 32px;\n",
              "    padding: 0;\n",
              "    width: 32px;\n",
              "  }\n",
              "\n",
              "  .colab-df-quickchart:hover {\n",
              "    background-color: var(--hover-bg-color);\n",
              "    box-shadow: 0 1px 2px rgba(60, 64, 67, 0.3), 0 1px 3px 1px rgba(60, 64, 67, 0.15);\n",
              "    fill: var(--button-hover-fill-color);\n",
              "  }\n",
              "\n",
              "  .colab-df-quickchart-complete:disabled,\n",
              "  .colab-df-quickchart-complete:disabled:hover {\n",
              "    background-color: var(--disabled-bg-color);\n",
              "    fill: var(--disabled-fill-color);\n",
              "    box-shadow: none;\n",
              "  }\n",
              "\n",
              "  .colab-df-spinner {\n",
              "    border: 2px solid var(--fill-color);\n",
              "    border-color: transparent;\n",
              "    border-bottom-color: var(--fill-color);\n",
              "    animation:\n",
              "      spin 1s steps(1) infinite;\n",
              "  }\n",
              "\n",
              "  @keyframes spin {\n",
              "    0% {\n",
              "      border-color: transparent;\n",
              "      border-bottom-color: var(--fill-color);\n",
              "      border-left-color: var(--fill-color);\n",
              "    }\n",
              "    20% {\n",
              "      border-color: transparent;\n",
              "      border-left-color: var(--fill-color);\n",
              "      border-top-color: var(--fill-color);\n",
              "    }\n",
              "    30% {\n",
              "      border-color: transparent;\n",
              "      border-left-color: var(--fill-color);\n",
              "      border-top-color: var(--fill-color);\n",
              "      border-right-color: var(--fill-color);\n",
              "    }\n",
              "    40% {\n",
              "      border-color: transparent;\n",
              "      border-right-color: var(--fill-color);\n",
              "      border-top-color: var(--fill-color);\n",
              "    }\n",
              "    60% {\n",
              "      border-color: transparent;\n",
              "      border-right-color: var(--fill-color);\n",
              "    }\n",
              "    80% {\n",
              "      border-color: transparent;\n",
              "      border-right-color: var(--fill-color);\n",
              "      border-bottom-color: var(--fill-color);\n",
              "    }\n",
              "    90% {\n",
              "      border-color: transparent;\n",
              "      border-bottom-color: var(--fill-color);\n",
              "    }\n",
              "  }\n",
              "</style>\n",
              "\n",
              "  <script>\n",
              "    async function quickchart(key) {\n",
              "      const quickchartButtonEl =\n",
              "        document.querySelector('#' + key + ' button');\n",
              "      quickchartButtonEl.disabled = true;  // To prevent multiple clicks.\n",
              "      quickchartButtonEl.classList.add('colab-df-spinner');\n",
              "      try {\n",
              "        const charts = await google.colab.kernel.invokeFunction(\n",
              "            'suggestCharts', [key], {});\n",
              "      } catch (error) {\n",
              "        console.error('Error during call to suggestCharts:', error);\n",
              "      }\n",
              "      quickchartButtonEl.classList.remove('colab-df-spinner');\n",
              "      quickchartButtonEl.classList.add('colab-df-quickchart-complete');\n",
              "    }\n",
              "    (() => {\n",
              "      let quickchartButtonEl =\n",
              "        document.querySelector('#df-d1813a83-2d60-4f58-90df-4a6e7b2b0307 button');\n",
              "      quickchartButtonEl.style.display =\n",
              "        google.colab.kernel.accessAllowed ? 'block' : 'none';\n",
              "    })();\n",
              "  </script>\n",
              "</div>\n",
              "\n",
              "    </div>\n",
              "  </div>\n"
            ],
            "text/plain": [
              "               HGT          BMI           BF       WNGSPN      STNDRCH  \\\n",
              "count  1608.000000  1606.000000  1235.000000  1609.000000  1607.000000   \n",
              "mean     77.630162    25.044539     0.075242    82.389310   103.518046   \n",
              "std       3.352075     2.009152     0.029414     4.000477     4.863599   \n",
              "min      67.750000    17.480000     0.026000    70.000000    88.500000   \n",
              "25%      75.300000    23.680000     0.054000    79.750000   100.000000   \n",
              "50%      78.000000    24.900000     0.067000    82.500000   104.000000   \n",
              "75%      80.250000    26.170000     0.089000    85.250000   107.000000   \n",
              "max      89.250000    34.490000     0.231000    98.250000   122.500000   \n",
              "\n",
              "            HANDL       HANDW     STNDVERT       LPVERT         LANE  \\\n",
              "count  880.000000  880.000000  1427.000000  1427.000000  1418.000000   \n",
              "mean     8.723864    9.443750    29.252838    34.554660    11.399817   \n",
              "std      0.471031    0.694416     3.106785     3.695856     0.586063   \n",
              "min      7.500000    7.000000    19.500000    21.000000     9.650000   \n",
              "25%      8.500000    9.000000    27.000000    32.000000    10.992500   \n",
              "50%      8.750000    9.500000    29.000000    34.500000    11.330000   \n",
              "75%      9.000000   10.000000    31.500000    37.000000    11.730000   \n",
              "max     10.500000   12.000000    41.500000    48.000000    14.450000   \n",
              "\n",
              "          SHUTTLE       SPRINT  \n",
              "count  553.000000  1419.000000  \n",
              "mean     3.073635     3.270550  \n",
              "std      0.209728     0.141359  \n",
              "min      2.220000     2.910000  \n",
              "25%      2.980000     3.180000  \n",
              "50%      3.080000     3.260000  \n",
              "75%      3.200000     3.355000  \n",
              "max      3.760000     4.000000  "
            ]
          },
          "execution_count": 28,
          "metadata": {},
          "output_type": "execute_result"
        }
      ],
      "source": [
        "# get summary statistics of the numerical columns\n",
        "df.describe()"
      ]
    },
    {
      "cell_type": "markdown",
      "metadata": {
        "id": "yU_xU2_Ke_PW"
      },
      "source": [
        "### Plotting data to identify outliers"
      ]
    },
    {
      "cell_type": "markdown",
      "metadata": {
        "id": "FLkZ6wKixAjR"
      },
      "source": [
        "### 1.5.2. The pandas plot method\n",
        "\n",
        "Plotting data with pandas can be accomplished using the `plot()` method available on both `Series` and `DataFrame` objects. By default, when calling the `plot()` method pandas creates a `line` plot, assuming the data referenced for the plot is numeric. By default, pandas uses the Python visualization library `matplotlib` as the plotting backend for the `plot()` method.\n",
        "\n",
        "We will explore the results of calling `plot()` with `scatter()` method."
      ]
    },
    {
      "cell_type": "markdown",
      "metadata": {
        "id": "AkPTNIV2Vnth"
      },
      "source": [
        "The previous notebooks had examples of using histograms and box plots for outlier detection, here we explore scatter plots. Use what is convenient. Some statistical processes require historgram or box plot based outlier detection. (e.g. when distribution shape is important)"
      ]
    },
    {
      "cell_type": "markdown",
      "metadata": {
        "id": "nukhD5B9KAyk"
      },
      "source": [
        "You might want to inspect these values and decide if keeping them or removing them makes sense for the analyses you have in mind."
      ]
    },
    {
      "cell_type": "code",
      "execution_count": null,
      "metadata": {
        "colab": {
          "base_uri": "https://localhost:8080/",
          "height": 542
        },
        "id": "36JQtRbALvVL",
        "outputId": "5930ff40-4005-4fdf-8f23-757f7b5a4b4e"
      },
      "outputs": [
        {
          "data": {
            "image/png": "[encoded data removed]",
            "text/plain": [
              "<Figure size 800x600 with 1 Axes>"
            ]
          },
          "metadata": {},
          "output_type": "display_data"
        }
      ],
      "source": [
        "# remove the rows with the identified outliers with three largest values in the column we get the index\n",
        "# Identify the indices of the 3 rows with the largest values in a column (e.g., 'WNGSPN')\n",
        "# Change 'WNGSPN' to the appropriate column name if needed\n",
        "players_todrop = df[\"WNGSPN\"].nlargest(3).index\n",
        "\n",
        "# Create a new DataFrame with those rows dropped\n",
        "df_dropped = df.drop(players_todrop)\n",
        "\n",
        "# Check the new DataFrame by plotting a scatter plot of 'WNGSPN' vs 'HGT' (or another appropriate pair of columns)\n",
        "df_dropped.plot.scatter(x='WNGSPN', y='HGT', figsize=(8, 6))\n",
        "\n",
        "# Show the plot\n",
        "import matplotlib.pyplot as plt\n",
        "plt.show()\n"
      ]
    },
    {
      "cell_type": "code",
      "execution_count": null,
      "metadata": {
        "colab": {
          "base_uri": "https://localhost:8080/",
          "height": 542
        },
        "id": "6LsKMVUTN0cj",
        "outputId": "7a76c986-4d16-49e5-c63e-395dd62e0f64"
      },
      "outputs": [
        {
          "data": {
            "image/png": "[encoded data removed]",
            "text/plain": [
              "<Figure size 800x600 with 1 Axes>"
            ]
          },
          "metadata": {},
          "output_type": "display_data"
        }
      ],
      "source": [
        "# do the same for the outlier in height\n",
        "# Identify the index of the row with the largest value in the \"Height (cm)\" column\n",
        "players_todrop = df[\"HGT\"].nlargest(1).index\n",
        "\n",
        "# Create a new DataFrame with the outlier row dropped\n",
        "df_cleaned = df.drop(players_todrop)\n",
        "\n",
        "# Check the new DataFrame by plotting a scatter plot of 'Width (cm)' vs 'Height (cm)'\n",
        "df_cleaned.plot.scatter(x='WNGSPN', y='HGT', figsize=(8, 6))\n",
        "\n",
        "# Show the plot\n",
        "import matplotlib.pyplot as plt\n",
        "plt.show()\n"
      ]
    },
    {
      "cell_type": "markdown",
      "metadata": {
        "id": "wK4xK1J9Lnw_"
      },
      "source": [
        "> When do you stop to remove outliers?\n",
        "after removing these values your plot would zoom in, but be careful not to over do this. Scatter plots are less reliable ways to remove outliers but sometimes can be intuitive."
      ]
    },
    {
      "cell_type": "markdown",
      "metadata": {
        "id": "aNcEd2HkxAjS"
      },
      "source": [
        "### 1.5.3. Saving a plot\n",
        "\n",
        "`matplotlib` provides functionality for saving a figure as an image using the method `savefig()`. We need to get the figure from our plot by calling `get_figure` on the matplotlib `Axes` object and then calling the method `savefig()`."
      ]
    },
    {
      "cell_type": "code",
      "execution_count": null,
      "metadata": {
        "colab": {
          "base_uri": "https://localhost:8080/",
          "height": 34
        },
        "id": "0_FAjJyLxAjS",
        "outputId": "17f34f7b-4aba-44f7-b82c-2d630898772a"
      },
      "outputs": [
        {
          "data": {
            "text/plain": [
              "<Figure size 640x480 with 0 Axes>"
            ]
          },
          "metadata": {},
          "output_type": "display_data"
        }
      ],
      "source": [
        "# Save the plot as a PNG file (standard resolution)\n",
        "plt.savefig('height_wingspan_scatter.png')\n",
        "\n",
        "# Save a high-resolution version of the plot (DPI set to 300)\n",
        "plt.savefig('height_wingspan_scatter_high_res.png', dpi=300)\n",
        "\n",
        "# Save a vectorized version of the plot (SVG format)\n",
        "plt.savefig('height_wingspan_scatter.svg', format='svg')"
      ]
    },
    {
      "cell_type": "markdown",
      "metadata": {
        "id": "VHBfVFsU4mdW"
      },
      "source": [
        "### Other plotting libraries\n",
        "\n",
        "There are many other Python visualization libraries beyond `matplotlib`. Depending on your visualization needs, there are libraries that offer additional features such as advanced plot types, enhanced styling options, the ability to plot large datasets, and interactivity. We will introduce two popular plotting libraries, **Seaborn** and **Altair**, that provide additional functionality while also working well with pandas data structures.\n",
        "\n",
        "You can find an exhaustive overview of Python visualization tools on the [PyViz website](https://pyviz.org/index.html)."
      ]
    },
    {
      "cell_type": "markdown",
      "metadata": {
        "id": "czqJMCHm4mdW"
      },
      "source": [
        "#### Seaborn\n",
        "\n",
        "Seaborn is a \"Matplotlib-based high-level interface for drawing statistical graphics.\" Seaborn builds upon the functionality of matplotlib and provides more robust options. You can learn more and find documentation on the [seaborn website](https://seaborn.pydata.org/)"
      ]
    },
    {
      "cell_type": "code",
      "execution_count": null,
      "metadata": {
        "id": "bItYZMnu4mdW"
      },
      "outputs": [],
      "source": [
        "# Import the Seaborn library as sns (callable in our code as sns)\n",
        "import seaborn as sns"
      ]
    },
    {
      "cell_type": "markdown",
      "metadata": {
        "id": "X4s7ELzW4mdW"
      },
      "source": [
        "We will use the seaborn `scatterplot()` method to generate the same scatter plot we created earlier of the width and height of smaller paintings, but this time will use seaborn's easy functionality fo encoding data into the color of the scatter plot points.\n",
        "\n",
        "With most seaborn plotting methods we pass in keyword arguments to specify the data source (`data=small_paintings`) and the specific encodings of the data in the plot, in our case the horizontal axis variable (`x='Width (cm)'`), the vertical axis variable (`y='Height (cm)'`), and the variable represented by color (`hue='AspectString'`)."
      ]
    },
    {
      "cell_type": "code",
      "execution_count": null,
      "metadata": {
        "colab": {
          "base_uri": "https://localhost:8080/",
          "height": 449
        },
        "id": "kmesji3b4mdW",
        "outputId": "cd1c4edc-85e5-4a47-dc5c-433675d35957"
      },
      "outputs": [
        {
          "data": {
            "image/png": "[encoded data removed]",
            "text/plain": [
              "<Figure size 640x480 with 1 Axes>"
            ]
          },
          "metadata": {},
          "output_type": "display_data"
        }
      ],
      "source": [
        "# Create a seaborn scatter plot, plotting \"Width (cm)\" on the\n",
        "# horizontal axis and \"Height (cm)\" on the vertical axis and using\n",
        "# \"AspectString\" to define the color of each point\n",
        "import matplotlib.pyplot as plt\n",
        "\n",
        "# Create the scatter plot with available columns\n",
        "sns.scatterplot(x='WNGSPN', y='HGT', hue='POS', data=df_cleaned)\n",
        "\n",
        "# Display the plot\n",
        "plt.show()"
      ]
    },
    {
      "cell_type": "markdown",
      "metadata": {
        "id": "AqG9w-WmECKG"
      },
      "source": [
        "## 1.6. Data Wrangling\n",
        "\n",
        "> Wrangling is often used to change into a format that is usable, includes merging, subsetting and transformation.\n",
        "\n"
      ]
    },
    {
      "cell_type": "markdown",
      "metadata": {
        "id": "3CijFh6sNEga"
      },
      "source": [
        "### 1.6.1. Replacing values in a column\n",
        "\n",
        "We can replace values in a column by first accessing that column and using the Series method `replace()` (*remember accessing one column from a DataFrame returns a pandas Series*). The `replace()` method can accept a dictionary of items in which the dictionary keys are the values to be replaced and the dictionary values are the new values to be inserted.\n",
        "\n",
        "We will demonstrate this method by replacing the values `Y` and `N` in the `Cataloged` column to the more explicit values `Yes` and `No`, respectively. Also, we will edit the DataFrame directly by including the keyword argument `inplace=True`."
      ]
    },
    {
      "cell_type": "code",
      "execution_count": null,
      "metadata": {
        "colab": {
          "base_uri": "https://localhost:8080/",
          "height": 605
        },
        "id": "7nwJT1cqPEV_",
        "outputId": "620eed09-0e55-438f-f822-407be7d38098"
      },
      "outputs": [
        {
          "name": "stdout",
          "output_type": "stream",
          "text": [
            "<class 'pandas.core.frame.DataFrame'>\n",
            "RangeIndex: 1610 entries, 0 to 1609\n",
            "Data columns (total 16 columns):\n",
            " #   Column    Non-Null Count  Dtype  \n",
            "---  ------    --------------  -----  \n",
            " 0   YEAR      1610 non-null   object \n",
            " 1   PLAYER    1610 non-null   object \n",
            " 2   POS       1609 non-null   object \n",
            " 3   HGT       1608 non-null   float64\n",
            " 4   WGT       1606 non-null   object \n",
            " 5   BMI       1606 non-null   float64\n",
            " 6   BF        1235 non-null   float64\n",
            " 7   WNGSPN    1609 non-null   float64\n",
            " 8   STNDRCH   1607 non-null   float64\n",
            " 9   HANDL     880 non-null    float64\n",
            " 10  HANDW     880 non-null    float64\n",
            " 11  STNDVERT  1427 non-null   float64\n",
            " 12  LPVERT    1427 non-null   float64\n",
            " 13  LANE      1418 non-null   float64\n",
            " 14  SHUTTLE   553 non-null    float64\n",
            " 15  SPRINT    1419 non-null   float64\n",
            "dtypes: float64(12), object(4)\n",
            "memory usage: 201.4+ KB\n"
          ]
        },
        {
          "data": {
            "application/vnd.google.colaboratory.intrinsic+json": {
              "summary": "{\n  \"name\": \"df\",\n  \"rows\": 1610,\n  \"fields\": [\n    {\n      \"column\": \"YEAR\",\n      \"properties\": {\n        \"dtype\": \"object\",\n        \"num_unique_values\": 25,\n        \"samples\": [\n          \"2016\",\n          \"2008\",\n          \"2024\"\n        ],\n        \"semantic_type\": \"\",\n        \"description\": \"\"\n      }\n    },\n    {\n      \"column\": \"PLAYER\",\n      \"properties\": {\n        \"dtype\": \"string\",\n        \"num_unique_values\": 1610,\n        \"samples\": [\n          \"Freeman, Enrique\",\n          \"Jackson-Davis, Trayce\",\n          \"Jackson, Pierre\"\n        ],\n        \"semantic_type\": \"\",\n        \"description\": \"\"\n      }\n    },\n    {\n      \"column\": \"POS\",\n      \"properties\": {\n        \"dtype\": \"category\",\n        \"num_unique_values\": 13,\n        \"samples\": [\n          \"C-PF\",\n          \"PF-C\",\n          \"SF\"\n        ],\n        \"semantic_type\": \"\",\n        \"description\": \"\"\n      }\n    },\n    {\n      \"column\": \"HGT\",\n      \"properties\": {\n        \"dtype\": \"number\",\n        \"std\": 3.3520746678278726,\n        \"min\": 67.75,\n        \"max\": 89.25,\n        \"num_unique_values\": 100,\n        \"samples\": [\n          73.25,\n          83.0,\n          83.25\n        ],\n        \"semantic_type\": \"\",\n        \"description\": \"\"\n      }\n    },\n    {\n      \"column\": \"WGT\",\n      \"properties\": {\n        \"dtype\": \"category\",\n        \"num_unique_values\": 511,\n        \"samples\": [\n          \"195.8\",\n          \"212.6\",\n          \"225.5\"\n        ],\n        \"semantic_type\": \"\",\n        \"description\": \"\"\n      }\n    },\n    {\n      \"column\": \"BMI\",\n      \"properties\": {\n        \"dtype\": \"number\",\n        \"std\": 2.0091518349711652,\n        \"min\": 17.48,\n        \"max\": 34.49,\n        \"num_unique_values\": 670,\n        \"samples\": [\n          22.21,\n          24.41,\n          26.82\n        ],\n        \"semantic_type\": \"\",\n        \"description\": \"\"\n      }\n    },\n    {\n      \"column\": \"BF\",\n      \"properties\": {\n        \"dtype\": \"number\",\n        \"std\": 0.029414475560331124,\n        \"min\": 0.026,\n        \"max\": 0.231,\n        \"num_unique_values\": 198,\n        \"samples\": [\n          0.0783,\n          0.119,\n          0.038\n        ],\n        \"semantic_type\": \"\",\n        \"description\": \"\"\n      }\n    },\n    {\n      \"column\": \"WNGSPN\",\n      \"properties\": {\n        \"dtype\": \"number\",\n        \"std\": 4.000476972047663,\n        \"min\": 70.0,\n        \"max\": 98.25,\n        \"num_unique_values\": 114,\n        \"samples\": [\n          79.75,\n          78.5,\n          75.3\n        ],\n        \"semantic_type\": \"\",\n        \"description\": \"\"\n      }\n    },\n    {\n      \"column\": \"STNDRCH\",\n      \"properties\": {\n        \"dtype\": \"number\",\n        \"std\": 4.863598790083773,\n        \"min\": 88.5,\n        \"max\": 122.5,\n        \"num_unique_values\": 62,\n        \"samples\": [\n          89.5,\n          108.3,\n          106.5\n        ],\n        \"semantic_type\": \"\",\n        \"description\": \"\"\n      }\n    },\n    {\n      \"column\": \"HANDL\",\n      \"properties\": {\n        \"dtype\": \"number\",\n        \"std\": 0.4710309459390834,\n        \"min\": 7.5,\n        \"max\": 10.5,\n        \"num_unique_values\": 13,\n        \"samples\": [\n          10.25,\n          9.75,\n          9.5\n        ],\n        \"semantic_type\": \"\",\n        \"description\": \"\"\n      }\n    },\n    {\n      \"column\": \"HANDW\",\n      \"properties\": {\n        \"dtype\": \"number\",\n        \"std\": 0.6944159076427174,\n        \"min\": 7.0,\n        \"max\": 12.0,\n        \"num_unique_values\": 21,\n        \"samples\": [\n          9.8,\n          11.5,\n          7.0\n        ],\n        \"semantic_type\": \"\",\n        \"description\": \"\"\n      }\n    },\n    {\n      \"column\": \"STNDVERT\",\n      \"properties\": {\n        \"dtype\": \"number\",\n        \"std\": 3.1067853178074607,\n        \"min\": 19.5,\n        \"max\": 41.5,\n        \"num_unique_values\": 41,\n        \"samples\": [\n          23.5,\n          27.5,\n          29.0\n        ],\n        \"semantic_type\": \"\",\n        \"description\": \"\"\n      }\n    },\n    {\n      \"column\": \"LPVERT\",\n      \"properties\": {\n        \"dtype\": \"number\",\n        \"std\": 3.6958561107566648,\n        \"min\": 21.0,\n        \"max\": 48.0,\n        \"num_unique_values\": 44,\n        \"samples\": [\n          44.0,\n          36.5,\n          35.5\n        ],\n        \"semantic_type\": \"\",\n        \"description\": \"\"\n      }\n    },\n    {\n      \"column\": \"LANE\",\n      \"properties\": {\n        \"dtype\": \"number\",\n        \"std\": 0.5860634750976099,\n        \"min\": 9.65,\n        \"max\": 14.45,\n        \"num_unique_values\": 268,\n        \"samples\": [\n          10.7,\n          12.23,\n          11.76\n        ],\n        \"semantic_type\": \"\",\n        \"description\": \"\"\n      }\n    },\n    {\n      \"column\": \"SHUTTLE\",\n      \"properties\": {\n        \"dtype\": \"number\",\n        \"std\": 0.20972805983514212,\n        \"min\": 2.22,\n        \"max\": 3.76,\n        \"num_unique_values\": 105,\n        \"samples\": [\n          3.24,\n          2.62,\n          2.28\n        ],\n        \"semantic_type\": \"\",\n        \"description\": \"\"\n      }\n    },\n    {\n      \"column\": \"SPRINT\",\n      \"properties\": {\n        \"dtype\": \"number\",\n        \"std\": 0.14135943654875138,\n        \"min\": 2.91,\n        \"max\": 4.0,\n        \"num_unique_values\": 80,\n        \"samples\": [\n          3.04,\n          3.21,\n          3.4\n        ],\n        \"semantic_type\": \"\",\n        \"description\": \"\"\n      }\n    }\n  ]\n}",
              "type": "dataframe",
              "variable_name": "df"
            },
            "text/html": [
              "\n",
              "  <div id=\"df-ed6c5d06-ec29-45b7-81c2-03e99223ac76\" class=\"colab-df-container\">\n",
              "    <div>\n",
              "<style scoped>\n",
              "    .dataframe tbody tr th:only-of-type {\n",
              "        vertical-align: middle;\n",
              "    }\n",
              "\n",
              "    .dataframe tbody tr th {\n",
              "        vertical-align: top;\n",
              "    }\n",
              "\n",
              "    .dataframe thead th {\n",
              "        text-align: right;\n",
              "    }\n",
              "</style>\n",
              "<table border=\"1\" class=\"dataframe\">\n",
              "  <thead>\n",
              "    <tr style=\"text-align: right;\">\n",
              "      <th></th>\n",
              "      <th>YEAR</th>\n",
              "      <th>PLAYER</th>\n",
              "      <th>POS</th>\n",
              "      <th>HGT</th>\n",
              "      <th>WGT</th>\n",
              "      <th>BMI</th>\n",
              "      <th>BF</th>\n",
              "      <th>WNGSPN</th>\n",
              "      <th>STNDRCH</th>\n",
              "      <th>HANDL</th>\n",
              "      <th>HANDW</th>\n",
              "      <th>STNDVERT</th>\n",
              "      <th>LPVERT</th>\n",
              "      <th>LANE</th>\n",
              "      <th>SHUTTLE</th>\n",
              "      <th>SPRINT</th>\n",
              "    </tr>\n",
              "  </thead>\n",
              "  <tbody>\n",
              "    <tr>\n",
              "      <th>0</th>\n",
              "      <td>2024</td>\n",
              "      <td>Ajayi, Michael</td>\n",
              "      <td>SF</td>\n",
              "      <td>77.8</td>\n",
              "      <td>227.8</td>\n",
              "      <td>26.49</td>\n",
              "      <td>NaN</td>\n",
              "      <td>84.8</td>\n",
              "      <td>106.5</td>\n",
              "      <td>9.5</td>\n",
              "      <td>9.8</td>\n",
              "      <td>27.0</td>\n",
              "      <td>34.5</td>\n",
              "      <td>12.0</td>\n",
              "      <td>3.17</td>\n",
              "      <td>3.21</td>\n",
              "    </tr>\n",
              "    <tr>\n",
              "      <th>1</th>\n",
              "      <td>2024</td>\n",
              "      <td>Ajinca, Melvin</td>\n",
              "      <td>SF</td>\n",
              "      <td>79.3</td>\n",
              "      <td>213.8</td>\n",
              "      <td>23.93</td>\n",
              "      <td>NaN</td>\n",
              "      <td>79.5</td>\n",
              "      <td>106.5</td>\n",
              "      <td>8.5</td>\n",
              "      <td>9.8</td>\n",
              "      <td>26.5</td>\n",
              "      <td>31.0</td>\n",
              "      <td>12.0</td>\n",
              "      <td>3.00</td>\n",
              "      <td>3.38</td>\n",
              "    </tr>\n",
              "    <tr>\n",
              "      <th>2</th>\n",
              "      <td>2024</td>\n",
              "      <td>Alexander, Trey</td>\n",
              "      <td>SG</td>\n",
              "      <td>75.3</td>\n",
              "      <td>187</td>\n",
              "      <td>23.22</td>\n",
              "      <td>NaN</td>\n",
              "      <td>82.5</td>\n",
              "      <td>101.5</td>\n",
              "      <td>9.0</td>\n",
              "      <td>10.0</td>\n",
              "      <td>27.0</td>\n",
              "      <td>32.0</td>\n",
              "      <td>11.0</td>\n",
              "      <td>3.00</td>\n",
              "      <td>3.00</td>\n",
              "    </tr>\n",
              "    <tr>\n",
              "      <th>3</th>\n",
              "      <td>2024</td>\n",
              "      <td>Almansa, Izan</td>\n",
              "      <td>C</td>\n",
              "      <td>81.3</td>\n",
              "      <td>219.6</td>\n",
              "      <td>23.39</td>\n",
              "      <td>NaN</td>\n",
              "      <td>85.0</td>\n",
              "      <td>110.0</td>\n",
              "      <td>9.0</td>\n",
              "      <td>9.0</td>\n",
              "      <td>28.0</td>\n",
              "      <td>35.0</td>\n",
              "      <td>11.0</td>\n",
              "      <td>3.00</td>\n",
              "      <td>3.00</td>\n",
              "    </tr>\n",
              "    <tr>\n",
              "      <th>4</th>\n",
              "      <td>2024</td>\n",
              "      <td>Beekman, Reece</td>\n",
              "      <td>PG</td>\n",
              "      <td>73.3</td>\n",
              "      <td>196.4</td>\n",
              "      <td>25.73</td>\n",
              "      <td>NaN</td>\n",
              "      <td>78.5</td>\n",
              "      <td>100.0</td>\n",
              "      <td>9.0</td>\n",
              "      <td>9.0</td>\n",
              "      <td>30.0</td>\n",
              "      <td>37.0</td>\n",
              "      <td>11.0</td>\n",
              "      <td>3.00</td>\n",
              "      <td>3.00</td>\n",
              "    </tr>\n",
              "  </tbody>\n",
              "</table>\n",
              "</div>\n",
              "    <div class=\"colab-df-buttons\">\n",
              "\n",
              "  <div class=\"colab-df-container\">\n",
              "    <button class=\"colab-df-convert\" onclick=\"convertToInteractive('df-ed6c5d06-ec29-45b7-81c2-03e99223ac76')\"\n",
              "            title=\"Convert this dataframe to an interactive table.\"\n",
              "            style=\"display:none;\">\n",
              "\n",
              "  <svg xmlns=\"http://www.w3.org/2000/svg\" height=\"24px\" viewBox=\"0 -960 960 960\">\n",
              "    <path d=\"M120-120v-720h720v720H120Zm60-500h600v-160H180v160Zm220 220h160v-160H400v160Zm0 220h160v-160H400v160ZM180-400h160v-160H180v160Zm440 0h160v-160H620v160ZM180-180h160v-160H180v160Zm440 0h160v-160H620v160Z\"/>\n",
              "  </svg>\n",
              "    </button>\n",
              "\n",
              "  <style>\n",
              "    .colab-df-container {\n",
              "      display:flex;\n",
              "      gap: 12px;\n",
              "    }\n",
              "\n",
              "    .colab-df-convert {\n",
              "      background-color: #E8F0FE;\n",
              "      border: none;\n",
              "      border-radius: 50%;\n",
              "      cursor: pointer;\n",
              "      display: none;\n",
              "      fill: #1967D2;\n",
              "      height: 32px;\n",
              "      padding: 0 0 0 0;\n",
              "      width: 32px;\n",
              "    }\n",
              "\n",
              "    .colab-df-convert:hover {\n",
              "      background-color: #E2EBFA;\n",
              "      box-shadow: 0px 1px 2px rgba(60, 64, 67, 0.3), 0px 1px 3px 1px rgba(60, 64, 67, 0.15);\n",
              "      fill: #174EA6;\n",
              "    }\n",
              "\n",
              "    .colab-df-buttons div {\n",
              "      margin-bottom: 4px;\n",
              "    }\n",
              "\n",
              "    [theme=dark] .colab-df-convert {\n",
              "      background-color: #3B4455;\n",
              "      fill: #D2E3FC;\n",
              "    }\n",
              "\n",
              "    [theme=dark] .colab-df-convert:hover {\n",
              "      background-color: #434B5C;\n",
              "      box-shadow: 0px 1px 3px 1px rgba(0, 0, 0, 0.15);\n",
              "      filter: drop-shadow(0px 1px 2px rgba(0, 0, 0, 0.3));\n",
              "      fill: #FFFFFF;\n",
              "    }\n",
              "  </style>\n",
              "\n",
              "    <script>\n",
              "      const buttonEl =\n",
              "        document.querySelector('#df-ed6c5d06-ec29-45b7-81c2-03e99223ac76 button.colab-df-convert');\n",
              "      buttonEl.style.display =\n",
              "        google.colab.kernel.accessAllowed ? 'block' : 'none';\n",
              "\n",
              "      async function convertToInteractive(key) {\n",
              "        const element = document.querySelector('#df-ed6c5d06-ec29-45b7-81c2-03e99223ac76');\n",
              "        const dataTable =\n",
              "          await google.colab.kernel.invokeFunction('convertToInteractive',\n",
              "                                                    [key], {});\n",
              "        if (!dataTable) return;\n",
              "\n",
              "        const docLinkHtml = 'Like what you see? Visit the ' +\n",
              "          '<a target=\"_blank\" href=https://colab.research.google.com/notebooks/data_table.ipynb>data table notebook</a>'\n",
              "          + ' to learn more about interactive tables.';\n",
              "        element.innerHTML = '';\n",
              "        dataTable['output_type'] = 'display_data';\n",
              "        await google.colab.output.renderOutput(dataTable, element);\n",
              "        const docLink = document.createElement('div');\n",
              "        docLink.innerHTML = docLinkHtml;\n",
              "        element.appendChild(docLink);\n",
              "      }\n",
              "    </script>\n",
              "  </div>\n",
              "\n",
              "\n",
              "<div id=\"df-b38207c3-ebde-4057-8973-fe80be48f00b\">\n",
              "  <button class=\"colab-df-quickchart\" onclick=\"quickchart('df-b38207c3-ebde-4057-8973-fe80be48f00b')\"\n",
              "            title=\"Suggest charts\"\n",
              "            style=\"display:none;\">\n",
              "\n",
              "<svg xmlns=\"http://www.w3.org/2000/svg\" height=\"24px\"viewBox=\"0 0 24 24\"\n",
              "     width=\"24px\">\n",
              "    <g>\n",
              "        <path d=\"M19 3H5c-1.1 0-2 .9-2 2v14c0 1.1.9 2 2 2h14c1.1 0 2-.9 2-2V5c0-1.1-.9-2-2-2zM9 17H7v-7h2v7zm4 0h-2V7h2v10zm4 0h-2v-4h2v4z\"/>\n",
              "    </g>\n",
              "</svg>\n",
              "  </button>\n",
              "\n",
              "<style>\n",
              "  .colab-df-quickchart {\n",
              "      --bg-color: #E8F0FE;\n",
              "      --fill-color: #1967D2;\n",
              "      --hover-bg-color: #E2EBFA;\n",
              "      --hover-fill-color: #174EA6;\n",
              "      --disabled-fill-color: #AAA;\n",
              "      --disabled-bg-color: #DDD;\n",
              "  }\n",
              "\n",
              "  [theme=dark] .colab-df-quickchart {\n",
              "      --bg-color: #3B4455;\n",
              "      --fill-color: #D2E3FC;\n",
              "      --hover-bg-color: #434B5C;\n",
              "      --hover-fill-color: #FFFFFF;\n",
              "      --disabled-bg-color: #3B4455;\n",
              "      --disabled-fill-color: #666;\n",
              "  }\n",
              "\n",
              "  .colab-df-quickchart {\n",
              "    background-color: var(--bg-color);\n",
              "    border: none;\n",
              "    border-radius: 50%;\n",
              "    cursor: pointer;\n",
              "    display: none;\n",
              "    fill: var(--fill-color);\n",
              "    height: 32px;\n",
              "    padding: 0;\n",
              "    width: 32px;\n",
              "  }\n",
              "\n",
              "  .colab-df-quickchart:hover {\n",
              "    background-color: var(--hover-bg-color);\n",
              "    box-shadow: 0 1px 2px rgba(60, 64, 67, 0.3), 0 1px 3px 1px rgba(60, 64, 67, 0.15);\n",
              "    fill: var(--button-hover-fill-color);\n",
              "  }\n",
              "\n",
              "  .colab-df-quickchart-complete:disabled,\n",
              "  .colab-df-quickchart-complete:disabled:hover {\n",
              "    background-color: var(--disabled-bg-color);\n",
              "    fill: var(--disabled-fill-color);\n",
              "    box-shadow: none;\n",
              "  }\n",
              "\n",
              "  .colab-df-spinner {\n",
              "    border: 2px solid var(--fill-color);\n",
              "    border-color: transparent;\n",
              "    border-bottom-color: var(--fill-color);\n",
              "    animation:\n",
              "      spin 1s steps(1) infinite;\n",
              "  }\n",
              "\n",
              "  @keyframes spin {\n",
              "    0% {\n",
              "      border-color: transparent;\n",
              "      border-bottom-color: var(--fill-color);\n",
              "      border-left-color: var(--fill-color);\n",
              "    }\n",
              "    20% {\n",
              "      border-color: transparent;\n",
              "      border-left-color: var(--fill-color);\n",
              "      border-top-color: var(--fill-color);\n",
              "    }\n",
              "    30% {\n",
              "      border-color: transparent;\n",
              "      border-left-color: var(--fill-color);\n",
              "      border-top-color: var(--fill-color);\n",
              "      border-right-color: var(--fill-color);\n",
              "    }\n",
              "    40% {\n",
              "      border-color: transparent;\n",
              "      border-right-color: var(--fill-color);\n",
              "      border-top-color: var(--fill-color);\n",
              "    }\n",
              "    60% {\n",
              "      border-color: transparent;\n",
              "      border-right-color: var(--fill-color);\n",
              "    }\n",
              "    80% {\n",
              "      border-color: transparent;\n",
              "      border-right-color: var(--fill-color);\n",
              "      border-bottom-color: var(--fill-color);\n",
              "    }\n",
              "    90% {\n",
              "      border-color: transparent;\n",
              "      border-bottom-color: var(--fill-color);\n",
              "    }\n",
              "  }\n",
              "</style>\n",
              "\n",
              "  <script>\n",
              "    async function quickchart(key) {\n",
              "      const quickchartButtonEl =\n",
              "        document.querySelector('#' + key + ' button');\n",
              "      quickchartButtonEl.disabled = true;  // To prevent multiple clicks.\n",
              "      quickchartButtonEl.classList.add('colab-df-spinner');\n",
              "      try {\n",
              "        const charts = await google.colab.kernel.invokeFunction(\n",
              "            'suggestCharts', [key], {});\n",
              "      } catch (error) {\n",
              "        console.error('Error during call to suggestCharts:', error);\n",
              "      }\n",
              "      quickchartButtonEl.classList.remove('colab-df-spinner');\n",
              "      quickchartButtonEl.classList.add('colab-df-quickchart-complete');\n",
              "    }\n",
              "    (() => {\n",
              "      let quickchartButtonEl =\n",
              "        document.querySelector('#df-b38207c3-ebde-4057-8973-fe80be48f00b button');\n",
              "      quickchartButtonEl.style.display =\n",
              "        google.colab.kernel.accessAllowed ? 'block' : 'none';\n",
              "    })();\n",
              "  </script>\n",
              "</div>\n",
              "\n",
              "    </div>\n",
              "  </div>\n"
            ],
            "text/plain": [
              "   YEAR           PLAYER POS   HGT    WGT    BMI  BF  WNGSPN  STNDRCH  HANDL  \\\n",
              "0  2024   Ajayi, Michael  SF  77.8  227.8  26.49 NaN    84.8    106.5    9.5   \n",
              "1  2024   Ajinca, Melvin  SF  79.3  213.8  23.93 NaN    79.5    106.5    8.5   \n",
              "2  2024  Alexander, Trey  SG  75.3    187  23.22 NaN    82.5    101.5    9.0   \n",
              "3  2024    Almansa, Izan   C  81.3  219.6  23.39 NaN    85.0    110.0    9.0   \n",
              "4  2024   Beekman, Reece  PG  73.3  196.4  25.73 NaN    78.5    100.0    9.0   \n",
              "\n",
              "   HANDW  STNDVERT  LPVERT  LANE  SHUTTLE  SPRINT  \n",
              "0    9.8      27.0    34.5  12.0     3.17    3.21  \n",
              "1    9.8      26.5    31.0  12.0     3.00    3.38  \n",
              "2   10.0      27.0    32.0  11.0     3.00    3.00  \n",
              "3    9.0      28.0    35.0  11.0     3.00    3.00  \n",
              "4    9.0      30.0    37.0  11.0     3.00    3.00  "
            ]
          },
          "execution_count": 34,
          "metadata": {},
          "output_type": "execute_result"
        }
      ],
      "source": [
        "# print the columns and the number of values and datatypes for reference\n",
        "df.info()\n",
        "\n",
        "df.head()"
      ]
    },
    {
      "cell_type": "code",
      "execution_count": null,
      "metadata": {
        "id": "6Po1Cznkcpb4"
      },
      "outputs": [],
      "source": [
        "df.head()\n",
        "\n",
        "# Replacing names in the format: Last, First with First Last\n",
        "df['PLAYER'] = df['PLAYER'].str.split(', ').str[::-1].str.join(' ')\n"
      ]
    },
    {
      "cell_type": "code",
      "execution_count": null,
      "metadata": {
        "colab": {
          "base_uri": "https://localhost:8080/",
          "height": 17
        },
        "id": "j8UR_5oZIVE8",
        "outputId": "762d127c-f91f-4e3b-9dd5-1fecd0ecb9e4"
      },
      "outputs": [
        {
          "data": {
            "application/javascript": "\n    async function download(id, filename, size) {\n      if (!google.colab.kernel.accessAllowed) {\n        return;\n      }\n      const div = document.createElement('div');\n      const label = document.createElement('label');\n      label.textContent = `Downloading \"${filename}\": `;\n      div.appendChild(label);\n      const progress = document.createElement('progress');\n      progress.max = size;\n      div.appendChild(progress);\n      document.body.appendChild(div);\n\n      const buffers = [];\n      let downloaded = 0;\n\n      const channel = await google.colab.kernel.comms.open(id);\n      // Send a message to notify the kernel that we're ready.\n      channel.send({})\n\n      for await (const message of channel.messages) {\n        // Send a message to notify the kernel that we're ready.\n        channel.send({})\n        if (message.buffers) {\n          for (const buffer of message.buffers) {\n            buffers.push(buffer);\n            downloaded += buffer.byteLength;\n            progress.value = downloaded;\n          }\n        }\n      }\n      const blob = new Blob(buffers, {type: 'application/binary'});\n      const a = document.createElement('a');\n      a.href = window.URL.createObjectURL(blob);\n      a.download = filename;\n      div.appendChild(a);\n      a.click();\n      div.remove();\n    }\n  ",
            "text/plain": [
              "<IPython.core.display.Javascript object>"
            ]
          },
          "metadata": {},
          "output_type": "display_data"
        },
        {
          "data": {
            "application/javascript": "download(\"download_72389eda-9c1d-49c9-90f4-df7050c1d1ab\", \"draft_combine_data.csv\", 138547)",
            "text/plain": [
              "<IPython.core.display.Javascript object>"
            ]
          },
          "metadata": {},
          "output_type": "display_data"
        }
      ],
      "source": [
        "from google.colab import drive\n",
        "from google.colab import files\n",
        "\n",
        "df.to_csv('draft_combine_data.csv')\n",
        "\n",
        "files.download('draft_combine_data.csv')"
      ]
    },
    {
      "cell_type": "markdown",
      "metadata": {
        "id": "y2a0bRhg-yA7"
      },
      "source": [
        "## 1.7. Data Merging"
      ]
    },
    {
      "cell_type": "markdown",
      "metadata": {
        "id": "Fr_a_6dqudB7"
      },
      "source": [
        "### 1.7.1. Load the multiple datasets\n",
        "\n",
        "We have prepared the data from the MoMA dataset for this workshop. We will import those datasets into our notebook to use them for data analysis.\n",
        "\n",
        "Datasets can be stored in several types of files, including .csv, .json, .txt, .xls, .xlsx, and more. Here we will import a .csv file and a .json file.\n",
        "\n",
        "Preview the CSV file\n",
        "Preview the EXCEL file\n",
        "Preview the JSON file\n",
        "\n",
        "Use this link for File 1: https://raw.githubusercontent.com/ncsu-libraries-data-vis/teaching-datasets/main/moma_data/moma_paintings.csv\n",
        "\n",
        "For File 2: https://raw.githubusercontent.com/ncsu-libraries-data-vis/teaching-datasets/main/moma_data/moma_photographs.xlsx\n",
        "\n",
        "For file 3: https://raw.githubusercontent.com/ncsu-libraries-data-vis/teaching-datasets/main/moma_data/moma_sculptures.json\n"
      ]
    },
    {
      "cell_type": "code",
      "execution_count": null,
      "metadata": {
        "colab": {
          "base_uri": "https://localhost:8080/",
          "height": 742
        },
        "id": "4DT_82Cji_FB",
        "outputId": "bc970e65-3199-43a0-f167-0d25d2609917"
      },
      "outputs": [
        {
          "name": "stderr",
          "output_type": "stream",
          "text": [
            "<ipython-input-37-5d64f99e7a0d>:2: FutureWarning: The behavior of 'to_datetime' with 'unit' when parsing strings is deprecated. In a future version, strings will be parsed as datetime strings, matching the behavior without a 'unit'. To retain the old behavior, explicitly cast ints or floats to numeric type before calling to_datetime.\n",
            "  sculptures = pd.read_json('https://raw.githubusercontent.com/ncsu-libraries-data-vis/teaching-datasets/main/moma_data/moma_sculptures.json')\n",
            "<ipython-input-37-5d64f99e7a0d>:2: FutureWarning: The behavior of 'to_datetime' with 'unit' when parsing strings is deprecated. In a future version, strings will be parsed as datetime strings, matching the behavior without a 'unit'. To retain the old behavior, explicitly cast ints or floats to numeric type before calling to_datetime.\n",
            "  sculptures = pd.read_json('https://raw.githubusercontent.com/ncsu-libraries-data-vis/teaching-datasets/main/moma_data/moma_sculptures.json')\n",
            "<ipython-input-37-5d64f99e7a0d>:2: FutureWarning: The behavior of 'to_datetime' with 'unit' when parsing strings is deprecated. In a future version, strings will be parsed as datetime strings, matching the behavior without a 'unit'. To retain the old behavior, explicitly cast ints or floats to numeric type before calling to_datetime.\n",
            "  sculptures = pd.read_json('https://raw.githubusercontent.com/ncsu-libraries-data-vis/teaching-datasets/main/moma_data/moma_sculptures.json')\n"
          ]
        },
        {
          "data": {
            "application/vnd.google.colaboratory.intrinsic+json": {
              "type": "dataframe",
              "variable_name": "sculptures"
            },
            "text/html": [
              "\n",
              "  <div id=\"df-5f11bae1-7892-435f-ae40-13e3e7f7e3f4\" class=\"colab-df-container\">\n",
              "    <div>\n",
              "<style scoped>\n",
              "    .dataframe tbody tr th:only-of-type {\n",
              "        vertical-align: middle;\n",
              "    }\n",
              "\n",
              "    .dataframe tbody tr th {\n",
              "        vertical-align: top;\n",
              "    }\n",
              "\n",
              "    .dataframe thead th {\n",
              "        text-align: right;\n",
              "    }\n",
              "</style>\n",
              "<table border=\"1\" class=\"dataframe\">\n",
              "  <thead>\n",
              "    <tr style=\"text-align: right;\">\n",
              "      <th></th>\n",
              "      <th>Title</th>\n",
              "      <th>Artist</th>\n",
              "      <th>ConstituentID</th>\n",
              "      <th>Date</th>\n",
              "      <th>Medium</th>\n",
              "      <th>Dimensions</th>\n",
              "      <th>CreditLine</th>\n",
              "      <th>AccessionNumber</th>\n",
              "      <th>Classification</th>\n",
              "      <th>Department</th>\n",
              "      <th>...</th>\n",
              "      <th>ThumbnailURL</th>\n",
              "      <th>Circumference (cm)</th>\n",
              "      <th>Depth (cm)</th>\n",
              "      <th>Diameter (cm)</th>\n",
              "      <th>Height (cm)</th>\n",
              "      <th>Length (cm)</th>\n",
              "      <th>Weight (kg)</th>\n",
              "      <th>Width (cm)</th>\n",
              "      <th>Seat Height (cm)</th>\n",
              "      <th>Duration (sec.)</th>\n",
              "    </tr>\n",
              "  </thead>\n",
              "  <tbody>\n",
              "    <tr>\n",
              "      <th>73418</th>\n",
              "      <td>Surface with Vibrating Texture</td>\n",
              "      <td>Getulio Alviani</td>\n",
              "      <td>137.0</td>\n",
              "      <td>1964</td>\n",
              "      <td>Brushed aluminum on board</td>\n",
              "      <td>33 x 32 3/4\" (83.6 x 83.2 cm)</td>\n",
              "      <td>Larry Aldrich Foundation Fund</td>\n",
              "      <td>105.1965</td>\n",
              "      <td>Sculpture</td>\n",
              "      <td>Painting &amp; Sculpture</td>\n",
              "      <td>...</td>\n",
              "      <td>http://www.moma.org/media/W1siZiIsIjIwODIwOCJd...</td>\n",
              "      <td>NaN</td>\n",
              "      <td>NaN</td>\n",
              "      <td>NaN</td>\n",
              "      <td>83.6</td>\n",
              "      <td>NaN</td>\n",
              "      <td>NaN</td>\n",
              "      <td>83.2</td>\n",
              "      <td>NaN</td>\n",
              "      <td>NaN</td>\n",
              "    </tr>\n",
              "    <tr>\n",
              "      <th>73474</th>\n",
              "      <td>IN RELATION TO AN INCREASE IN QUANTITY REGARDL...</td>\n",
              "      <td>Lawrence Weiner</td>\n",
              "      <td>6288.0</td>\n",
              "      <td>1973-74</td>\n",
              "      <td>LANGUAGE + THE MATERIALS REFERRED TO</td>\n",
              "      <td>Dimensions variable</td>\n",
              "      <td>Given anonymously</td>\n",
              "      <td>117.1975</td>\n",
              "      <td>Sculpture</td>\n",
              "      <td>Painting &amp; Sculpture</td>\n",
              "      <td>...</td>\n",
              "      <td>http://www.moma.org/media/W1siZiIsIjMxODk1MSJd...</td>\n",
              "      <td>NaN</td>\n",
              "      <td>NaN</td>\n",
              "      <td>NaN</td>\n",
              "      <td>NaN</td>\n",
              "      <td>NaN</td>\n",
              "      <td>NaN</td>\n",
              "      <td>NaN</td>\n",
              "      <td>NaN</td>\n",
              "      <td>NaN</td>\n",
              "    </tr>\n",
              "    <tr>\n",
              "      <th>73564</th>\n",
              "      <td>3 Standard Stoppages</td>\n",
              "      <td>Marcel Duchamp</td>\n",
              "      <td>1634.0</td>\n",
              "      <td>Paris 1913-14</td>\n",
              "      <td>Wood box 11 1/8 x 50 7/8 x 9\" (28.2 x 129.2 x ...</td>\n",
              "      <td>None</td>\n",
              "      <td>Katherine S. Dreier Bequest</td>\n",
              "      <td>149.1953.a-i</td>\n",
              "      <td>Sculpture</td>\n",
              "      <td>Painting &amp; Sculpture</td>\n",
              "      <td>...</td>\n",
              "      <td>http://www.moma.org/media/W1siZiIsIjEzODY0NSJd...</td>\n",
              "      <td>NaN</td>\n",
              "      <td>NaN</td>\n",
              "      <td>NaN</td>\n",
              "      <td>13.3</td>\n",
              "      <td>NaN</td>\n",
              "      <td>NaN</td>\n",
              "      <td>120.0</td>\n",
              "      <td>NaN</td>\n",
              "      <td>NaN</td>\n",
              "    </tr>\n",
              "    <tr>\n",
              "      <th>73567</th>\n",
              "      <td>To Be Looked at (from the Other Side of the Gl...</td>\n",
              "      <td>Marcel Duchamp</td>\n",
              "      <td>1634.0</td>\n",
              "      <td>Buenos Aires 1918</td>\n",
              "      <td>Oil, silver leaf, lead wire, and magnifying le...</td>\n",
              "      <td>Overall 22\" (55.8 cm) high</td>\n",
              "      <td>Katherine S. Dreier Bequest</td>\n",
              "      <td>150.1953</td>\n",
              "      <td>Sculpture</td>\n",
              "      <td>Painting &amp; Sculpture</td>\n",
              "      <td>...</td>\n",
              "      <td>http://www.moma.org/media/W1siZiIsIjI0MzI3MyJd...</td>\n",
              "      <td>NaN</td>\n",
              "      <td>NaN</td>\n",
              "      <td>NaN</td>\n",
              "      <td>49.5</td>\n",
              "      <td>NaN</td>\n",
              "      <td>NaN</td>\n",
              "      <td>39.7</td>\n",
              "      <td>NaN</td>\n",
              "      <td>NaN</td>\n",
              "    </tr>\n",
              "    <tr>\n",
              "      <th>73733</th>\n",
              "      <td>Revolving</td>\n",
              "      <td>Kurt Schwitters</td>\n",
              "      <td>5293.0</td>\n",
              "      <td>1919</td>\n",
              "      <td>Wood, metal, cord, cardboard, wool, wire, leat...</td>\n",
              "      <td>48 3/8 x 35\" (122.7 x 88.7 cm)</td>\n",
              "      <td>Advisory Committee Fund</td>\n",
              "      <td>231.1968</td>\n",
              "      <td>Sculpture</td>\n",
              "      <td>Painting &amp; Sculpture</td>\n",
              "      <td>...</td>\n",
              "      <td>http://www.moma.org/media/W1siZiIsIjEyMjc3MCJd...</td>\n",
              "      <td>NaN</td>\n",
              "      <td>NaN</td>\n",
              "      <td>NaN</td>\n",
              "      <td>122.7</td>\n",
              "      <td>NaN</td>\n",
              "      <td>NaN</td>\n",
              "      <td>88.7</td>\n",
              "      <td>NaN</td>\n",
              "      <td>NaN</td>\n",
              "    </tr>\n",
              "  </tbody>\n",
              "</table>\n",
              "<p>5 rows × 24 columns</p>\n",
              "</div>\n",
              "    <div class=\"colab-df-buttons\">\n",
              "\n",
              "  <div class=\"colab-df-container\">\n",
              "    <button class=\"colab-df-convert\" onclick=\"convertToInteractive('df-5f11bae1-7892-435f-ae40-13e3e7f7e3f4')\"\n",
              "            title=\"Convert this dataframe to an interactive table.\"\n",
              "            style=\"display:none;\">\n",
              "\n",
              "  <svg xmlns=\"http://www.w3.org/2000/svg\" height=\"24px\" viewBox=\"0 -960 960 960\">\n",
              "    <path d=\"M120-120v-720h720v720H120Zm60-500h600v-160H180v160Zm220 220h160v-160H400v160Zm0 220h160v-160H400v160ZM180-400h160v-160H180v160Zm440 0h160v-160H620v160ZM180-180h160v-160H180v160Zm440 0h160v-160H620v160Z\"/>\n",
              "  </svg>\n",
              "    </button>\n",
              "\n",
              "  <style>\n",
              "    .colab-df-container {\n",
              "      display:flex;\n",
              "      gap: 12px;\n",
              "    }\n",
              "\n",
              "    .colab-df-convert {\n",
              "      background-color: #E8F0FE;\n",
              "      border: none;\n",
              "      border-radius: 50%;\n",
              "      cursor: pointer;\n",
              "      display: none;\n",
              "      fill: #1967D2;\n",
              "      height: 32px;\n",
              "      padding: 0 0 0 0;\n",
              "      width: 32px;\n",
              "    }\n",
              "\n",
              "    .colab-df-convert:hover {\n",
              "      background-color: #E2EBFA;\n",
              "      box-shadow: 0px 1px 2px rgba(60, 64, 67, 0.3), 0px 1px 3px 1px rgba(60, 64, 67, 0.15);\n",
              "      fill: #174EA6;\n",
              "    }\n",
              "\n",
              "    .colab-df-buttons div {\n",
              "      margin-bottom: 4px;\n",
              "    }\n",
              "\n",
              "    [theme=dark] .colab-df-convert {\n",
              "      background-color: #3B4455;\n",
              "      fill: #D2E3FC;\n",
              "    }\n",
              "\n",
              "    [theme=dark] .colab-df-convert:hover {\n",
              "      background-color: #434B5C;\n",
              "      box-shadow: 0px 1px 3px 1px rgba(0, 0, 0, 0.15);\n",
              "      filter: drop-shadow(0px 1px 2px rgba(0, 0, 0, 0.3));\n",
              "      fill: #FFFFFF;\n",
              "    }\n",
              "  </style>\n",
              "\n",
              "    <script>\n",
              "      const buttonEl =\n",
              "        document.querySelector('#df-5f11bae1-7892-435f-ae40-13e3e7f7e3f4 button.colab-df-convert');\n",
              "      buttonEl.style.display =\n",
              "        google.colab.kernel.accessAllowed ? 'block' : 'none';\n",
              "\n",
              "      async function convertToInteractive(key) {\n",
              "        const element = document.querySelector('#df-5f11bae1-7892-435f-ae40-13e3e7f7e3f4');\n",
              "        const dataTable =\n",
              "          await google.colab.kernel.invokeFunction('convertToInteractive',\n",
              "                                                    [key], {});\n",
              "        if (!dataTable) return;\n",
              "\n",
              "        const docLinkHtml = 'Like what you see? Visit the ' +\n",
              "          '<a target=\"_blank\" href=https://colab.research.google.com/notebooks/data_table.ipynb>data table notebook</a>'\n",
              "          + ' to learn more about interactive tables.';\n",
              "        element.innerHTML = '';\n",
              "        dataTable['output_type'] = 'display_data';\n",
              "        await google.colab.output.renderOutput(dataTable, element);\n",
              "        const docLink = document.createElement('div');\n",
              "        docLink.innerHTML = docLinkHtml;\n",
              "        element.appendChild(docLink);\n",
              "      }\n",
              "    </script>\n",
              "  </div>\n",
              "\n",
              "\n",
              "<div id=\"df-f6fad917-d9d8-46cb-ad2a-bf116220f25c\">\n",
              "  <button class=\"colab-df-quickchart\" onclick=\"quickchart('df-f6fad917-d9d8-46cb-ad2a-bf116220f25c')\"\n",
              "            title=\"Suggest charts\"\n",
              "            style=\"display:none;\">\n",
              "\n",
              "<svg xmlns=\"http://www.w3.org/2000/svg\" height=\"24px\"viewBox=\"0 0 24 24\"\n",
              "     width=\"24px\">\n",
              "    <g>\n",
              "        <path d=\"M19 3H5c-1.1 0-2 .9-2 2v14c0 1.1.9 2 2 2h14c1.1 0 2-.9 2-2V5c0-1.1-.9-2-2-2zM9 17H7v-7h2v7zm4 0h-2V7h2v10zm4 0h-2v-4h2v4z\"/>\n",
              "    </g>\n",
              "</svg>\n",
              "  </button>\n",
              "\n",
              "<style>\n",
              "  .colab-df-quickchart {\n",
              "      --bg-color: #E8F0FE;\n",
              "      --fill-color: #1967D2;\n",
              "      --hover-bg-color: #E2EBFA;\n",
              "      --hover-fill-color: #174EA6;\n",
              "      --disabled-fill-color: #AAA;\n",
              "      --disabled-bg-color: #DDD;\n",
              "  }\n",
              "\n",
              "  [theme=dark] .colab-df-quickchart {\n",
              "      --bg-color: #3B4455;\n",
              "      --fill-color: #D2E3FC;\n",
              "      --hover-bg-color: #434B5C;\n",
              "      --hover-fill-color: #FFFFFF;\n",
              "      --disabled-bg-color: #3B4455;\n",
              "      --disabled-fill-color: #666;\n",
              "  }\n",
              "\n",
              "  .colab-df-quickchart {\n",
              "    background-color: var(--bg-color);\n",
              "    border: none;\n",
              "    border-radius: 50%;\n",
              "    cursor: pointer;\n",
              "    display: none;\n",
              "    fill: var(--fill-color);\n",
              "    height: 32px;\n",
              "    padding: 0;\n",
              "    width: 32px;\n",
              "  }\n",
              "\n",
              "  .colab-df-quickchart:hover {\n",
              "    background-color: var(--hover-bg-color);\n",
              "    box-shadow: 0 1px 2px rgba(60, 64, 67, 0.3), 0 1px 3px 1px rgba(60, 64, 67, 0.15);\n",
              "    fill: var(--button-hover-fill-color);\n",
              "  }\n",
              "\n",
              "  .colab-df-quickchart-complete:disabled,\n",
              "  .colab-df-quickchart-complete:disabled:hover {\n",
              "    background-color: var(--disabled-bg-color);\n",
              "    fill: var(--disabled-fill-color);\n",
              "    box-shadow: none;\n",
              "  }\n",
              "\n",
              "  .colab-df-spinner {\n",
              "    border: 2px solid var(--fill-color);\n",
              "    border-color: transparent;\n",
              "    border-bottom-color: var(--fill-color);\n",
              "    animation:\n",
              "      spin 1s steps(1) infinite;\n",
              "  }\n",
              "\n",
              "  @keyframes spin {\n",
              "    0% {\n",
              "      border-color: transparent;\n",
              "      border-bottom-color: var(--fill-color);\n",
              "      border-left-color: var(--fill-color);\n",
              "    }\n",
              "    20% {\n",
              "      border-color: transparent;\n",
              "      border-left-color: var(--fill-color);\n",
              "      border-top-color: var(--fill-color);\n",
              "    }\n",
              "    30% {\n",
              "      border-color: transparent;\n",
              "      border-left-color: var(--fill-color);\n",
              "      border-top-color: var(--fill-color);\n",
              "      border-right-color: var(--fill-color);\n",
              "    }\n",
              "    40% {\n",
              "      border-color: transparent;\n",
              "      border-right-color: var(--fill-color);\n",
              "      border-top-color: var(--fill-color);\n",
              "    }\n",
              "    60% {\n",
              "      border-color: transparent;\n",
              "      border-right-color: var(--fill-color);\n",
              "    }\n",
              "    80% {\n",
              "      border-color: transparent;\n",
              "      border-right-color: var(--fill-color);\n",
              "      border-bottom-color: var(--fill-color);\n",
              "    }\n",
              "    90% {\n",
              "      border-color: transparent;\n",
              "      border-bottom-color: var(--fill-color);\n",
              "    }\n",
              "  }\n",
              "</style>\n",
              "\n",
              "  <script>\n",
              "    async function quickchart(key) {\n",
              "      const quickchartButtonEl =\n",
              "        document.querySelector('#' + key + ' button');\n",
              "      quickchartButtonEl.disabled = true;  // To prevent multiple clicks.\n",
              "      quickchartButtonEl.classList.add('colab-df-spinner');\n",
              "      try {\n",
              "        const charts = await google.colab.kernel.invokeFunction(\n",
              "            'suggestCharts', [key], {});\n",
              "      } catch (error) {\n",
              "        console.error('Error during call to suggestCharts:', error);\n",
              "      }\n",
              "      quickchartButtonEl.classList.remove('colab-df-spinner');\n",
              "      quickchartButtonEl.classList.add('colab-df-quickchart-complete');\n",
              "    }\n",
              "    (() => {\n",
              "      let quickchartButtonEl =\n",
              "        document.querySelector('#df-f6fad917-d9d8-46cb-ad2a-bf116220f25c button');\n",
              "      quickchartButtonEl.style.display =\n",
              "        google.colab.kernel.accessAllowed ? 'block' : 'none';\n",
              "    })();\n",
              "  </script>\n",
              "</div>\n",
              "\n",
              "    </div>\n",
              "  </div>\n"
            ],
            "text/plain": [
              "                                                   Title           Artist  \\\n",
              "73418                     Surface with Vibrating Texture  Getulio Alviani   \n",
              "73474  IN RELATION TO AN INCREASE IN QUANTITY REGARDL...  Lawrence Weiner   \n",
              "73564                               3 Standard Stoppages   Marcel Duchamp   \n",
              "73567  To Be Looked at (from the Other Side of the Gl...   Marcel Duchamp   \n",
              "73733                                          Revolving  Kurt Schwitters   \n",
              "\n",
              "       ConstituentID               Date  \\\n",
              "73418          137.0               1964   \n",
              "73474         6288.0            1973-74   \n",
              "73564         1634.0      Paris 1913-14   \n",
              "73567         1634.0  Buenos Aires 1918   \n",
              "73733         5293.0               1919   \n",
              "\n",
              "                                                  Medium  \\\n",
              "73418                          Brushed aluminum on board   \n",
              "73474               LANGUAGE + THE MATERIALS REFERRED TO   \n",
              "73564  Wood box 11 1/8 x 50 7/8 x 9\" (28.2 x 129.2 x ...   \n",
              "73567  Oil, silver leaf, lead wire, and magnifying le...   \n",
              "73733  Wood, metal, cord, cardboard, wool, wire, leat...   \n",
              "\n",
              "                           Dimensions                     CreditLine  \\\n",
              "73418   33 x 32 3/4\" (83.6 x 83.2 cm)  Larry Aldrich Foundation Fund   \n",
              "73474             Dimensions variable              Given anonymously   \n",
              "73564                            None    Katherine S. Dreier Bequest   \n",
              "73567      Overall 22\" (55.8 cm) high    Katherine S. Dreier Bequest   \n",
              "73733  48 3/8 x 35\" (122.7 x 88.7 cm)        Advisory Committee Fund   \n",
              "\n",
              "      AccessionNumber Classification            Department  ...  \\\n",
              "73418        105.1965      Sculpture  Painting & Sculpture  ...   \n",
              "73474        117.1975      Sculpture  Painting & Sculpture  ...   \n",
              "73564    149.1953.a-i      Sculpture  Painting & Sculpture  ...   \n",
              "73567        150.1953      Sculpture  Painting & Sculpture  ...   \n",
              "73733        231.1968      Sculpture  Painting & Sculpture  ...   \n",
              "\n",
              "                                            ThumbnailURL Circumference (cm)  \\\n",
              "73418  http://www.moma.org/media/W1siZiIsIjIwODIwOCJd...                NaN   \n",
              "73474  http://www.moma.org/media/W1siZiIsIjMxODk1MSJd...                NaN   \n",
              "73564  http://www.moma.org/media/W1siZiIsIjEzODY0NSJd...                NaN   \n",
              "73567  http://www.moma.org/media/W1siZiIsIjI0MzI3MyJd...                NaN   \n",
              "73733  http://www.moma.org/media/W1siZiIsIjEyMjc3MCJd...                NaN   \n",
              "\n",
              "       Depth (cm) Diameter (cm) Height (cm)  Length (cm)  Weight (kg)  \\\n",
              "73418         NaN           NaN        83.6          NaN          NaN   \n",
              "73474         NaN           NaN         NaN          NaN          NaN   \n",
              "73564         NaN           NaN        13.3          NaN          NaN   \n",
              "73567         NaN           NaN        49.5          NaN          NaN   \n",
              "73733         NaN           NaN       122.7          NaN          NaN   \n",
              "\n",
              "       Width (cm)  Seat Height (cm)  Duration (sec.)  \n",
              "73418        83.2               NaN              NaN  \n",
              "73474         NaN               NaN              NaN  \n",
              "73564       120.0               NaN              NaN  \n",
              "73567        39.7               NaN              NaN  \n",
              "73733        88.7               NaN              NaN  \n",
              "\n",
              "[5 rows x 24 columns]"
            ]
          },
          "execution_count": 37,
          "metadata": {},
          "output_type": "execute_result"
        }
      ],
      "source": [
        "# load file 3 sculptures\n",
        "sculptures = pd.read_json('https://raw.githubusercontent.com/ncsu-libraries-data-vis/teaching-datasets/main/moma_data/moma_sculptures.json')\n",
        "sculptures.head()"
      ]
    },
    {
      "cell_type": "markdown",
      "metadata": {
        "id": "g329QckbtRVM"
      },
      "source": [
        "# Credits\n",
        "\n",
        "This workshop was created by Aditi Mallavarapu, Claire Cahoon and Walt Gurley, adapted from previous workshop materials by Scott Bailey and Simon Wiles, of Stanford Libraries."
      ]
    }
  ],
  "metadata": {
    "colab": {
      "collapsed_sections": [
        "xr-lFuZhNEgb"
      ],
      "provenance": []
    },
    "kernelspec": {
      "display_name": "Python 3",
      "name": "python3"
    },
    "language_info": {
      "name": "python"
    }
  },
  "nbformat": 4,
  "nbformat_minor": 0
}
